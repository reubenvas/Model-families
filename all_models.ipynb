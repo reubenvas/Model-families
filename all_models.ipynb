{
  "cells": [
    {
      "cell_type": "markdown",
      "metadata": {
        "id": "view-in-github",
        "colab_type": "text"
      },
      "source": [
        "<a href=\"https://colab.research.google.com/github/reubenvas/Model-families/blob/main/all_models.ipynb\" target=\"_parent\"><img src=\"https://colab.research.google.com/assets/colab-badge.svg\" alt=\"Open In Colab\"/></a>"
      ]
    },
    {
      "cell_type": "code",
      "execution_count": null,
      "outputs": [],
      "source": [
        "import pandas as pd\n",
        "from matplotlib import pyplot as plt\n",
        "import numpy as np\n",
        "from sklearn.model_selection import train_test_split\n",
        "from sklearn.preprocessing import StandardScaler\n",
        "from sklearn.metrics import confusion_matrix, accuracy_score, classification_report, roc_auc_score, roc_curve\n",
        "from sklearn.model_selection import GridSearchCV\n",
        "from sklearn.neighbors import KNeighborsClassifier\n",
        "# Importing discriminant analysis\n",
        "from sklearn.discriminant_analysis import LinearDiscriminantAnalysis as LDA\n",
        "from sklearn.discriminant_analysis import QuadraticDiscriminantAnalysis as QDA"
      ],
      "metadata": {
        "id": "a2c686433b622d08",
        "ExecuteTime": {
          "end_time": "2023-12-21T15:06:51.480299400Z",
          "start_time": "2023-12-21T15:06:42.891218400Z"
        },
        "pycharm": {
          "is_executing": true
        }
      },
      "id": "a2c686433b622d08"
    },
    {
      "cell_type": "markdown",
      "source": [
        "# Importing the dataset\n"
      ],
      "metadata": {
        "collapsed": false,
        "id": "e76a0275a53031e7"
      },
      "id": "e76a0275a53031e7"
    },
    {
      "cell_type": "code",
      "execution_count": null,
      "outputs": [],
      "source": [
        "# Importing from CSV file\n",
        "df_training_data = pd.read_csv('training_data.csv', delimiter=\",\")\n",
        "df_training_data['increase_stock'] = df_training_data['increase_stock'].replace(\n",
        "    {'high_bike_demand': 1, 'low_bike_demand': 0})"
      ],
      "metadata": {
        "id": "659a90c56ae1f548",
        "ExecuteTime": {
          "end_time": "2023-12-21T15:06:51.551808900Z",
          "start_time": "2023-12-21T15:06:51.492294600Z"
        }
      },
      "id": "659a90c56ae1f548"
    },
    {
      "cell_type": "code",
      "execution_count": null,
      "outputs": [],
      "source": [
        "# Removing empty column snow\n",
        "df_training_data = df_training_data.drop(['snow'], axis=1)"
      ],
      "metadata": {
        "id": "8b0eb7af357b357a",
        "ExecuteTime": {
          "end_time": "2023-12-21T15:06:51.555808300Z",
          "start_time": "2023-12-21T15:06:51.546807700Z"
        }
      },
      "id": "8b0eb7af357b357a"
    },
    {
      "cell_type": "markdown",
      "source": [
        "# Creating unified training and test set"
      ],
      "metadata": {
        "collapsed": false,
        "id": "17571fe036584390"
      },
      "id": "17571fe036584390"
    },
    {
      "cell_type": "code",
      "execution_count": null,
      "outputs": [],
      "source": [
        "# Creating X - everything but column increase_stock\n",
        "X = df_training_data.drop(['increase_stock'], axis=1)\n",
        "y = df_training_data['increase_stock']"
      ],
      "metadata": {
        "id": "e322cc8c0b8e759a",
        "ExecuteTime": {
          "end_time": "2023-12-21T15:06:51.616809100Z",
          "start_time": "2023-12-21T15:06:51.560814900Z"
        }
      },
      "id": "e322cc8c0b8e759a"
    },
    {
      "cell_type": "code",
      "execution_count": null,
      "outputs": [],
      "source": [
        "# Splitting into 75% training and 25% test set\n",
        "X_train, X_test, y_train, y_test = train_test_split(X, y, test_size=0.25, random_state=1477, stratify=y)"
      ],
      "metadata": {
        "id": "64b20630c716b13",
        "ExecuteTime": {
          "end_time": "2023-12-21T15:06:51.666807700Z",
          "start_time": "2023-12-21T15:06:51.596807900Z"
        }
      },
      "id": "64b20630c716b13"
    },
    {
      "cell_type": "markdown",
      "source": [
        "# Training the models"
      ],
      "metadata": {
        "collapsed": false,
        "id": "9d56320106e97ab2"
      },
      "id": "9d56320106e97ab2"
    },
    {
      "cell_type": "markdown",
      "source": [
        "## Logistic regression"
      ],
      "metadata": {
        "collapsed": false,
        "id": "6a3ab90ba6f63d70"
      },
      "id": "6a3ab90ba6f63d70"
    },
    {
      "cell_type": "code",
      "execution_count": null,
      "outputs": [],
      "source": [
        "def create_transformed_data(train_set, test_set):\n",
        "    # Dividing day into three parts: morning, afternoon, and night. Creating new attribute is_morning, is_afternoon, and is_night\n",
        "    train_set['is_morning'] = np.where((train_set['hour_of_day'] >= 8) & (train_set['hour_of_day'] < 15), 1, 0)\n",
        "    train_set['is_afternoon'] = np.where((train_set['hour_of_day'] >= 15) & (train_set['hour_of_day'] < 20), 1, 0)\n",
        "    train_set['is_night'] = np.where((train_set['hour_of_day'] >= 20) | (train_set['hour_of_day'] < 8), 1, 0)\n",
        "    # Creating feature \"rainy_day\" which is 1 if precip >0 and 0 otherwise\n",
        "    train_set['rainy_day'] = np.where(train_set['precip'] > 0, 1, 0)\n",
        "    # Dropping feature precip\n",
        "    train_set = train_set.drop(['precip'], axis=1)\n",
        "    # Creating feature \"snowy_day\" which is 1 if snow >0 and 0 otherwise\n",
        "    train_set['snowy_day'] = np.where(train_set['snowdepth'] > 0, 1, 0)\n",
        "    # Dropping feature snowdepth\n",
        "    train_set = train_set.drop(['snowdepth'], axis=1)\n",
        "    # Dropping feature hour_of_day\n",
        "    train_set = train_set.drop(['hour_of_day'], axis=1)\n",
        "\n",
        "    # Dividing month into two parts: summer and winter. Creating new attribute is_summer\n",
        "    train_set['is_summer'] = np.where((train_set['month'] >= 3) & (train_set['month'] <= 10), 1, 0)\n",
        "    # Dropping feature month\n",
        "    train_set = train_set.drop(['month'], axis=1)\n",
        "    # Dropping summertime since it is basically \"is_summer\" but with a different name\n",
        "    train_set = train_set.drop(['summertime'], axis=1)\n",
        "    # Performing standardization per column using pandas functions and for loop on all atributes except \"increase_stock\"\n",
        "    for column in train_set.columns:\n",
        "        if column != 'increase_stock':\n",
        "            train_set[column] = (train_set[column] - train_set[column].mean()) / train_set[column].std()\n",
        "    return train_set, test_set"
      ],
      "metadata": {
        "id": "f9d6a29f80c4691a",
        "ExecuteTime": {
          "end_time": "2023-12-21T15:06:51.714808400Z",
          "start_time": "2023-12-21T15:06:51.628808700Z"
        }
      },
      "id": "f9d6a29f80c4691a"
    },
    {
      "cell_type": "code",
      "execution_count": null,
      "outputs": [],
      "source": [
        "X_train_logistic = X_train.copy()\n",
        "y_train_logistic = y_train.copy()\n",
        "X_train_logistic, y_train_logistic = create_transformed_data(X_train_logistic, y_train_logistic)"
      ],
      "metadata": {
        "id": "38570f24158ffd4b",
        "ExecuteTime": {
          "end_time": "2023-12-21T15:06:51.719809600Z",
          "start_time": "2023-12-21T15:06:51.657807700Z"
        }
      },
      "id": "38570f24158ffd4b"
    },
    {
      "cell_type": "markdown",
      "source": [
        "### Training"
      ],
      "metadata": {
        "collapsed": false,
        "id": "82ffcf24a79ec007"
      },
      "id": "82ffcf24a79ec007"
    },
    {
      "cell_type": "code",
      "execution_count": null,
      "outputs": [
        {
          "name": "stdout",
          "output_type": "stream",
          "text": [
            "Fitting 5 folds for each of 360 candidates, totalling 1800 fits\n"
          ]
        },
        {
          "name": "stderr",
          "output_type": "stream",
          "text": [
            "C:\\Users\\vblys\\.conda\\envs\\AIIA\\lib\\site-packages\\sklearn\\model_selection\\_validation.py:425: FitFailedWarning: \n",
            "810 fits failed out of a total of 1800.\n",
            "The score on these train-test partitions for these parameters will be set to nan.\n",
            "If these failures are not expected, you can try to debug them by setting error_score='raise'.\n",
            "\n",
            "Below are more details about the failures:\n",
            "--------------------------------------------------------------------------------\n",
            "90 fits failed with the following error:\n",
            "Traceback (most recent call last):\n",
            "  File \"C:\\Users\\vblys\\.conda\\envs\\AIIA\\lib\\site-packages\\sklearn\\model_selection\\_validation.py\", line 732, in _fit_and_score\n",
            "    estimator.fit(X_train, y_train, **fit_params)\n",
            "  File \"C:\\Users\\vblys\\.conda\\envs\\AIIA\\lib\\site-packages\\sklearn\\base.py\", line 1151, in wrapper\n",
            "    return fit_method(estimator, *args, **kwargs)\n",
            "  File \"C:\\Users\\vblys\\.conda\\envs\\AIIA\\lib\\site-packages\\sklearn\\linear_model\\_logistic.py\", line 1168, in fit\n",
            "    solver = _check_solver(self.solver, self.penalty, self.dual)\n",
            "  File \"C:\\Users\\vblys\\.conda\\envs\\AIIA\\lib\\site-packages\\sklearn\\linear_model\\_logistic.py\", line 56, in _check_solver\n",
            "    raise ValueError(\n",
            "ValueError: Solver newton-cg supports only 'l2' or 'none' penalties, got l1 penalty.\n",
            "\n",
            "--------------------------------------------------------------------------------\n",
            "90 fits failed with the following error:\n",
            "Traceback (most recent call last):\n",
            "  File \"C:\\Users\\vblys\\.conda\\envs\\AIIA\\lib\\site-packages\\sklearn\\model_selection\\_validation.py\", line 732, in _fit_and_score\n",
            "    estimator.fit(X_train, y_train, **fit_params)\n",
            "  File \"C:\\Users\\vblys\\.conda\\envs\\AIIA\\lib\\site-packages\\sklearn\\base.py\", line 1151, in wrapper\n",
            "    return fit_method(estimator, *args, **kwargs)\n",
            "  File \"C:\\Users\\vblys\\.conda\\envs\\AIIA\\lib\\site-packages\\sklearn\\linear_model\\_logistic.py\", line 1168, in fit\n",
            "    solver = _check_solver(self.solver, self.penalty, self.dual)\n",
            "  File \"C:\\Users\\vblys\\.conda\\envs\\AIIA\\lib\\site-packages\\sklearn\\linear_model\\_logistic.py\", line 56, in _check_solver\n",
            "    raise ValueError(\n",
            "ValueError: Solver lbfgs supports only 'l2' or 'none' penalties, got l1 penalty.\n",
            "\n",
            "--------------------------------------------------------------------------------\n",
            "90 fits failed with the following error:\n",
            "Traceback (most recent call last):\n",
            "  File \"C:\\Users\\vblys\\.conda\\envs\\AIIA\\lib\\site-packages\\sklearn\\model_selection\\_validation.py\", line 732, in _fit_and_score\n",
            "    estimator.fit(X_train, y_train, **fit_params)\n",
            "  File \"C:\\Users\\vblys\\.conda\\envs\\AIIA\\lib\\site-packages\\sklearn\\base.py\", line 1151, in wrapper\n",
            "    return fit_method(estimator, *args, **kwargs)\n",
            "  File \"C:\\Users\\vblys\\.conda\\envs\\AIIA\\lib\\site-packages\\sklearn\\linear_model\\_logistic.py\", line 1168, in fit\n",
            "    solver = _check_solver(self.solver, self.penalty, self.dual)\n",
            "  File \"C:\\Users\\vblys\\.conda\\envs\\AIIA\\lib\\site-packages\\sklearn\\linear_model\\_logistic.py\", line 56, in _check_solver\n",
            "    raise ValueError(\n",
            "ValueError: Solver sag supports only 'l2' or 'none' penalties, got l1 penalty.\n",
            "\n",
            "--------------------------------------------------------------------------------\n",
            "90 fits failed with the following error:\n",
            "Traceback (most recent call last):\n",
            "  File \"C:\\Users\\vblys\\.conda\\envs\\AIIA\\lib\\site-packages\\sklearn\\model_selection\\_validation.py\", line 732, in _fit_and_score\n",
            "    estimator.fit(X_train, y_train, **fit_params)\n",
            "  File \"C:\\Users\\vblys\\.conda\\envs\\AIIA\\lib\\site-packages\\sklearn\\base.py\", line 1151, in wrapper\n",
            "    return fit_method(estimator, *args, **kwargs)\n",
            "  File \"C:\\Users\\vblys\\.conda\\envs\\AIIA\\lib\\site-packages\\sklearn\\linear_model\\_logistic.py\", line 1168, in fit\n",
            "    solver = _check_solver(self.solver, self.penalty, self.dual)\n",
            "  File \"C:\\Users\\vblys\\.conda\\envs\\AIIA\\lib\\site-packages\\sklearn\\linear_model\\_logistic.py\", line 56, in _check_solver\n",
            "    raise ValueError(\n",
            "ValueError: Solver newton-cg supports only 'l2' or 'none' penalties, got elasticnet penalty.\n",
            "\n",
            "--------------------------------------------------------------------------------\n",
            "90 fits failed with the following error:\n",
            "Traceback (most recent call last):\n",
            "  File \"C:\\Users\\vblys\\.conda\\envs\\AIIA\\lib\\site-packages\\sklearn\\model_selection\\_validation.py\", line 732, in _fit_and_score\n",
            "    estimator.fit(X_train, y_train, **fit_params)\n",
            "  File \"C:\\Users\\vblys\\.conda\\envs\\AIIA\\lib\\site-packages\\sklearn\\base.py\", line 1151, in wrapper\n",
            "    return fit_method(estimator, *args, **kwargs)\n",
            "  File \"C:\\Users\\vblys\\.conda\\envs\\AIIA\\lib\\site-packages\\sklearn\\linear_model\\_logistic.py\", line 1168, in fit\n",
            "    solver = _check_solver(self.solver, self.penalty, self.dual)\n",
            "  File \"C:\\Users\\vblys\\.conda\\envs\\AIIA\\lib\\site-packages\\sklearn\\linear_model\\_logistic.py\", line 56, in _check_solver\n",
            "    raise ValueError(\n",
            "ValueError: Solver lbfgs supports only 'l2' or 'none' penalties, got elasticnet penalty.\n",
            "\n",
            "--------------------------------------------------------------------------------\n",
            "90 fits failed with the following error:\n",
            "Traceback (most recent call last):\n",
            "  File \"C:\\Users\\vblys\\.conda\\envs\\AIIA\\lib\\site-packages\\sklearn\\model_selection\\_validation.py\", line 732, in _fit_and_score\n",
            "    estimator.fit(X_train, y_train, **fit_params)\n",
            "  File \"C:\\Users\\vblys\\.conda\\envs\\AIIA\\lib\\site-packages\\sklearn\\base.py\", line 1151, in wrapper\n",
            "    return fit_method(estimator, *args, **kwargs)\n",
            "  File \"C:\\Users\\vblys\\.conda\\envs\\AIIA\\lib\\site-packages\\sklearn\\linear_model\\_logistic.py\", line 1168, in fit\n",
            "    solver = _check_solver(self.solver, self.penalty, self.dual)\n",
            "  File \"C:\\Users\\vblys\\.conda\\envs\\AIIA\\lib\\site-packages\\sklearn\\linear_model\\_logistic.py\", line 66, in _check_solver\n",
            "    raise ValueError(\n",
            "ValueError: Only 'saga' solver supports elasticnet penalty, got solver=liblinear.\n",
            "\n",
            "--------------------------------------------------------------------------------\n",
            "90 fits failed with the following error:\n",
            "Traceback (most recent call last):\n",
            "  File \"C:\\Users\\vblys\\.conda\\envs\\AIIA\\lib\\site-packages\\sklearn\\model_selection\\_validation.py\", line 732, in _fit_and_score\n",
            "    estimator.fit(X_train, y_train, **fit_params)\n",
            "  File \"C:\\Users\\vblys\\.conda\\envs\\AIIA\\lib\\site-packages\\sklearn\\base.py\", line 1151, in wrapper\n",
            "    return fit_method(estimator, *args, **kwargs)\n",
            "  File \"C:\\Users\\vblys\\.conda\\envs\\AIIA\\lib\\site-packages\\sklearn\\linear_model\\_logistic.py\", line 1168, in fit\n",
            "    solver = _check_solver(self.solver, self.penalty, self.dual)\n",
            "  File \"C:\\Users\\vblys\\.conda\\envs\\AIIA\\lib\\site-packages\\sklearn\\linear_model\\_logistic.py\", line 56, in _check_solver\n",
            "    raise ValueError(\n",
            "ValueError: Solver sag supports only 'l2' or 'none' penalties, got elasticnet penalty.\n",
            "\n",
            "--------------------------------------------------------------------------------\n",
            "90 fits failed with the following error:\n",
            "Traceback (most recent call last):\n",
            "  File \"C:\\Users\\vblys\\.conda\\envs\\AIIA\\lib\\site-packages\\sklearn\\model_selection\\_validation.py\", line 732, in _fit_and_score\n",
            "    estimator.fit(X_train, y_train, **fit_params)\n",
            "  File \"C:\\Users\\vblys\\.conda\\envs\\AIIA\\lib\\site-packages\\sklearn\\base.py\", line 1151, in wrapper\n",
            "    return fit_method(estimator, *args, **kwargs)\n",
            "  File \"C:\\Users\\vblys\\.conda\\envs\\AIIA\\lib\\site-packages\\sklearn\\linear_model\\_logistic.py\", line 1178, in fit\n",
            "    raise ValueError(\"l1_ratio must be specified when penalty is elasticnet.\")\n",
            "ValueError: l1_ratio must be specified when penalty is elasticnet.\n",
            "\n",
            "--------------------------------------------------------------------------------\n",
            "90 fits failed with the following error:\n",
            "Traceback (most recent call last):\n",
            "  File \"C:\\Users\\vblys\\.conda\\envs\\AIIA\\lib\\site-packages\\sklearn\\model_selection\\_validation.py\", line 732, in _fit_and_score\n",
            "    estimator.fit(X_train, y_train, **fit_params)\n",
            "  File \"C:\\Users\\vblys\\.conda\\envs\\AIIA\\lib\\site-packages\\sklearn\\base.py\", line 1151, in wrapper\n",
            "    return fit_method(estimator, *args, **kwargs)\n",
            "  File \"C:\\Users\\vblys\\.conda\\envs\\AIIA\\lib\\site-packages\\sklearn\\linear_model\\_logistic.py\", line 1168, in fit\n",
            "    solver = _check_solver(self.solver, self.penalty, self.dual)\n",
            "  File \"C:\\Users\\vblys\\.conda\\envs\\AIIA\\lib\\site-packages\\sklearn\\linear_model\\_logistic.py\", line 73, in _check_solver\n",
            "    raise ValueError(\"penalty='none' is not supported for the liblinear solver\")\n",
            "ValueError: penalty='none' is not supported for the liblinear solver\n",
            "\n",
            "  warnings.warn(some_fits_failed_message, FitFailedWarning)\n",
            "C:\\Users\\vblys\\.conda\\envs\\AIIA\\lib\\site-packages\\sklearn\\model_selection\\_search.py:976: UserWarning: One or more of the test scores are non-finite: [       nan        nan 0.8175            nan 0.82333333 0.82833333\n",
            " 0.82833333 0.8175     0.82833333 0.82833333        nan        nan\n",
            "        nan        nan        nan 0.83416667 0.83416667        nan\n",
            " 0.83416667 0.83416667        nan        nan 0.88333333        nan\n",
            " 0.885      0.89333333 0.89333333 0.89083333 0.89333333 0.89333333\n",
            "        nan        nan        nan        nan        nan 0.89083333\n",
            " 0.89083333        nan 0.89083333 0.89083333        nan        nan\n",
            " 0.82333333        nan 0.82333333 0.83       0.83       0.82416667\n",
            " 0.83       0.83              nan        nan        nan        nan\n",
            "        nan 0.83416667 0.83416667        nan 0.83416667 0.83416667\n",
            "        nan        nan 0.88833333        nan 0.88916667 0.8925\n",
            " 0.8925     0.895      0.8925     0.8925            nan        nan\n",
            "        nan        nan        nan 0.89083333 0.89083333        nan\n",
            " 0.89083333 0.89083333        nan        nan 0.825             nan\n",
            " 0.8275     0.83083333 0.83083333 0.82583333 0.83083333 0.83083333\n",
            "        nan        nan        nan        nan        nan 0.83416667\n",
            " 0.83416667        nan 0.83416667 0.83416667        nan        nan\n",
            " 0.89083333        nan 0.89333333 0.8925     0.8925     0.89583333\n",
            " 0.8925     0.8925            nan        nan        nan        nan\n",
            "        nan 0.89083333 0.89083333        nan 0.89083333 0.89083333\n",
            "        nan        nan 0.82666667        nan 0.82916667 0.83166667\n",
            " 0.83166667 0.8275     0.83166667 0.83166667        nan        nan\n",
            "        nan        nan        nan 0.83416667 0.83416667        nan\n",
            " 0.83416667 0.83416667        nan        nan 0.89333333        nan\n",
            " 0.89416667 0.89083333 0.89083333 0.89416667 0.89083333 0.89083333\n",
            "        nan        nan        nan        nan        nan 0.89083333\n",
            " 0.89083333        nan 0.89083333 0.89083333        nan        nan\n",
            " 0.82916667        nan 0.83083333 0.83166667 0.83166667 0.82833333\n",
            " 0.83166667 0.83166667        nan        nan        nan        nan\n",
            "        nan 0.83416667 0.83416667        nan 0.83416667 0.83416667\n",
            "        nan        nan 0.89333333        nan 0.89416667 0.89\n",
            " 0.89       0.89333333 0.89       0.89              nan        nan\n",
            "        nan        nan        nan 0.89083333 0.89083333        nan\n",
            " 0.89083333 0.89083333        nan        nan 0.83083333        nan\n",
            " 0.83083333 0.83166667 0.83166667 0.82916667 0.83166667 0.83166667\n",
            "        nan        nan        nan        nan        nan 0.83416667\n",
            " 0.83416667        nan 0.83416667 0.83416667        nan        nan\n",
            " 0.89166667        nan 0.89166667 0.89       0.89       0.89166667\n",
            " 0.89       0.89              nan        nan        nan        nan\n",
            "        nan 0.89083333 0.89083333        nan 0.89083333 0.89083333\n",
            "        nan        nan 0.83              nan 0.83166667 0.83166667\n",
            " 0.83166667 0.83       0.83166667 0.83166667        nan        nan\n",
            "        nan        nan        nan 0.83416667 0.83416667        nan\n",
            " 0.83416667 0.83416667        nan        nan 0.89333333        nan\n",
            " 0.8925     0.89083333 0.89083333 0.8925     0.89083333 0.89083333\n",
            "        nan        nan        nan        nan        nan 0.89083333\n",
            " 0.89083333        nan 0.89083333 0.89083333        nan        nan\n",
            " 0.83              nan 0.83083333 0.8325     0.8325     0.83083333\n",
            " 0.8325     0.8325            nan        nan        nan        nan\n",
            "        nan 0.83416667 0.83416667        nan 0.83416667 0.83416667\n",
            "        nan        nan 0.89333333        nan 0.89333333 0.8925\n",
            " 0.8925     0.89416667 0.89333333 0.8925            nan        nan\n",
            "        nan        nan        nan 0.89083333 0.89083333        nan\n",
            " 0.89083333 0.89083333        nan        nan 0.83083333        nan\n",
            " 0.83166667 0.83333333 0.83333333 0.83083333 0.83333333 0.83333333\n",
            "        nan        nan        nan        nan        nan 0.83416667\n",
            " 0.83416667        nan 0.83416667 0.83416667        nan        nan\n",
            " 0.89166667        nan 0.8925     0.89333333 0.89333333 0.895\n",
            " 0.89333333 0.89333333        nan        nan        nan        nan\n",
            "        nan 0.89083333 0.89083333        nan 0.89083333 0.89083333]\n",
            "  warnings.warn(\n"
          ]
        }
      ],
      "source": [
        "import sklearn.linear_model as lm\n",
        "\n",
        "# Doing grid seacrh to find best hyperparameters\n",
        "# Defining parameters for grid search\n",
        "param_grid = {\n",
        "    'penalty': ['l1', 'l2', 'elasticnet', 'none'],\n",
        "    'C': np.arange(0.1, 1, 0.1),\n",
        "    'solver': ['newton-cg', 'lbfgs', 'liblinear', 'sag', 'saga'],\n",
        "    'max_iter': [10000],\n",
        "    'class_weight': ['balanced', None]\n",
        "}\n",
        "# Creating logistic regression model\n",
        "logistic_model = lm.LogisticRegression()\n",
        "# Creating grid search\n",
        "grid_search = GridSearchCV(estimator=logistic_model, param_grid=param_grid, cv=5, n_jobs=-1, verbose=2, scoring='accuracy')\n",
        "# Fitting grid search to training data\n",
        "grid_search.fit(X_train_logistic, y_train_logistic)\n",
        "# Fitting model to training data\n",
        "logistic_model = grid_search.best_estimator_"
      ],
      "metadata": {
        "id": "fa1c4e7ed2d82643",
        "outputId": "cdc0576f-e4f2-40f3-956f-268aab301395",
        "ExecuteTime": {
          "end_time": "2023-12-21T15:15:11.912220400Z",
          "start_time": "2023-12-21T15:15:00.925221800Z"
        }
      },
      "id": "fa1c4e7ed2d82643"
    },
    {
      "cell_type": "code",
      "execution_count": null,
      "outputs": [
        {
          "name": "stdout",
          "output_type": "stream",
          "text": [
            "Best parameters:  {'C': 0.30000000000000004, 'class_weight': None, 'max_iter': 10000, 'penalty': 'l2', 'solver': 'liblinear'}\n",
            "Best cross-validation score: 0.90\n"
          ]
        }
      ],
      "source": [
        "print(\"Best parameters: \", grid_search.best_params_)\n",
        "# Printing best cross-validation score\n",
        "print(\"Best cross-validation score: {:.2f}\".format(grid_search.best_score_))"
      ],
      "metadata": {
        "ExecuteTime": {
          "end_time": "2023-12-21T15:18:17.723696100Z",
          "start_time": "2023-12-21T15:18:17.565208900Z"
        },
        "id": "27af27ee649e5680",
        "outputId": "96eb3dd3-7518-4dfa-bf34-337304791da7"
      },
      "id": "27af27ee649e5680"
    },
    {
      "cell_type": "markdown",
      "source": [
        "## LDA and QDA"
      ],
      "metadata": {
        "collapsed": false,
        "id": "614b7e7c2fd8e71"
      },
      "id": "614b7e7c2fd8e71"
    },
    {
      "cell_type": "markdown",
      "source": [
        "### Transforming data"
      ],
      "metadata": {
        "collapsed": false,
        "id": "360894b3d939d6ad"
      },
      "id": "360894b3d939d6ad"
    },
    {
      "cell_type": "code",
      "execution_count": null,
      "outputs": [],
      "source": [
        "X_train_LDA = X_train.copy()\n",
        "y_train_LDA = y_train.copy()\n",
        "X_train_LDA, y_train_LDA = create_transformed_data(X_train_LDA, y_train_LDA)"
      ],
      "metadata": {
        "id": "8b83e18ea523863b",
        "ExecuteTime": {
          "end_time": "2023-12-21T15:07:09.095148100Z",
          "start_time": "2023-12-21T15:07:09.021149100Z"
        }
      },
      "id": "8b83e18ea523863b"
    },
    {
      "cell_type": "markdown",
      "source": [
        "### Training"
      ],
      "metadata": {
        "collapsed": false,
        "id": "a0ffb78b4cef6ccb"
      },
      "id": "a0ffb78b4cef6ccb"
    },
    {
      "cell_type": "code",
      "execution_count": null,
      "outputs": [
        {
          "name": "stderr",
          "output_type": "stream",
          "text": [
            "C:\\Users\\vblys\\.conda\\envs\\AIIA\\lib\\site-packages\\sklearn\\model_selection\\_validation.py:425: FitFailedWarning: \n",
            "61 fits failed out of a total of 180.\n",
            "The score on these train-test partitions for these parameters will be set to nan.\n",
            "If these failures are not expected, you can try to debug them by setting error_score='raise'.\n",
            "\n",
            "Below are more details about the failures:\n",
            "--------------------------------------------------------------------------------\n",
            "6 fits failed with the following error:\n",
            "Traceback (most recent call last):\n",
            "  File \"C:\\Users\\vblys\\.conda\\envs\\AIIA\\lib\\site-packages\\sklearn\\model_selection\\_validation.py\", line 732, in _fit_and_score\n",
            "    estimator.fit(X_train, y_train, **fit_params)\n",
            "  File \"C:\\Users\\vblys\\.conda\\envs\\AIIA\\lib\\site-packages\\sklearn\\base.py\", line 1151, in wrapper\n",
            "    return fit_method(estimator, *args, **kwargs)\n",
            "  File \"C:\\Users\\vblys\\.conda\\envs\\AIIA\\lib\\site-packages\\sklearn\\discriminant_analysis.py\", line 637, in fit\n",
            "    self._solve_eigen(\n",
            "  File \"C:\\Users\\vblys\\.conda\\envs\\AIIA\\lib\\site-packages\\sklearn\\discriminant_analysis.py\", line 467, in _solve_eigen\n",
            "    evals, evecs = linalg.eigh(Sb, Sw)\n",
            "  File \"C:\\Users\\vblys\\.conda\\envs\\AIIA\\lib\\site-packages\\scipy\\linalg\\_decomp.py\", line 594, in eigh\n",
            "    raise LinAlgError('The leading minor of order {} of B is not '\n",
            "numpy.linalg.LinAlgError: The leading minor of order 12 of B is not positive definite. The factorization of B could not be completed and no eigenvalues or eigenvectors were computed.\n",
            "\n",
            "--------------------------------------------------------------------------------\n",
            "55 fits failed with the following error:\n",
            "Traceback (most recent call last):\n",
            "  File \"C:\\Users\\vblys\\.conda\\envs\\AIIA\\lib\\site-packages\\sklearn\\model_selection\\_validation.py\", line 732, in _fit_and_score\n",
            "    estimator.fit(X_train, y_train, **fit_params)\n",
            "  File \"C:\\Users\\vblys\\.conda\\envs\\AIIA\\lib\\site-packages\\sklearn\\base.py\", line 1151, in wrapper\n",
            "    return fit_method(estimator, *args, **kwargs)\n",
            "  File \"C:\\Users\\vblys\\.conda\\envs\\AIIA\\lib\\site-packages\\sklearn\\discriminant_analysis.py\", line 621, in fit\n",
            "    raise NotImplementedError(\"shrinkage not supported with 'svd' solver.\")\n",
            "NotImplementedError: shrinkage not supported with 'svd' solver.\n",
            "\n",
            "  warnings.warn(some_fits_failed_message, FitFailedWarning)\n",
            "C:\\Users\\vblys\\.conda\\envs\\AIIA\\lib\\site-packages\\sklearn\\model_selection\\_search.py:976: UserWarning: One or more of the test scores are non-finite: [0.87333333 0.87333333        nan        nan 0.865      0.865\n",
            "        nan 0.87333333        nan        nan 0.86666667 0.86666667\n",
            "        nan 0.86833333 0.86833333        nan 0.87       0.87\n",
            "        nan 0.87083333 0.87083333        nan 0.87333333 0.87333333\n",
            "        nan 0.875      0.875             nan 0.87833333 0.87833333\n",
            "        nan 0.87833333 0.87833333        nan 0.8775     0.8775    ]\n",
            "  warnings.warn(\n",
            "C:\\Users\\vblys\\.conda\\envs\\AIIA\\lib\\site-packages\\sklearn\\discriminant_analysis.py:935: UserWarning: Variables are collinear\n",
            "  warnings.warn(\"Variables are collinear\")\n",
            "C:\\Users\\vblys\\.conda\\envs\\AIIA\\lib\\site-packages\\sklearn\\discriminant_analysis.py:935: UserWarning: Variables are collinear\n",
            "  warnings.warn(\"Variables are collinear\")\n",
            "C:\\Users\\vblys\\.conda\\envs\\AIIA\\lib\\site-packages\\sklearn\\discriminant_analysis.py:935: UserWarning: Variables are collinear\n",
            "  warnings.warn(\"Variables are collinear\")\n",
            "C:\\Users\\vblys\\.conda\\envs\\AIIA\\lib\\site-packages\\sklearn\\discriminant_analysis.py:935: UserWarning: Variables are collinear\n",
            "  warnings.warn(\"Variables are collinear\")\n",
            "C:\\Users\\vblys\\.conda\\envs\\AIIA\\lib\\site-packages\\sklearn\\discriminant_analysis.py:935: UserWarning: Variables are collinear\n",
            "  warnings.warn(\"Variables are collinear\")\n",
            "C:\\Users\\vblys\\.conda\\envs\\AIIA\\lib\\site-packages\\sklearn\\discriminant_analysis.py:935: UserWarning: Variables are collinear\n",
            "  warnings.warn(\"Variables are collinear\")\n",
            "C:\\Users\\vblys\\.conda\\envs\\AIIA\\lib\\site-packages\\sklearn\\discriminant_analysis.py:935: UserWarning: Variables are collinear\n",
            "  warnings.warn(\"Variables are collinear\")\n",
            "C:\\Users\\vblys\\.conda\\envs\\AIIA\\lib\\site-packages\\sklearn\\discriminant_analysis.py:935: UserWarning: Variables are collinear\n",
            "  warnings.warn(\"Variables are collinear\")\n",
            "C:\\Users\\vblys\\.conda\\envs\\AIIA\\lib\\site-packages\\sklearn\\discriminant_analysis.py:935: UserWarning: Variables are collinear\n",
            "  warnings.warn(\"Variables are collinear\")\n",
            "C:\\Users\\vblys\\.conda\\envs\\AIIA\\lib\\site-packages\\sklearn\\discriminant_analysis.py:935: UserWarning: Variables are collinear\n",
            "  warnings.warn(\"Variables are collinear\")\n",
            "C:\\Users\\vblys\\.conda\\envs\\AIIA\\lib\\site-packages\\sklearn\\discriminant_analysis.py:935: UserWarning: Variables are collinear\n",
            "  warnings.warn(\"Variables are collinear\")\n",
            "C:\\Users\\vblys\\.conda\\envs\\AIIA\\lib\\site-packages\\sklearn\\discriminant_analysis.py:935: UserWarning: Variables are collinear\n",
            "  warnings.warn(\"Variables are collinear\")\n",
            "C:\\Users\\vblys\\.conda\\envs\\AIIA\\lib\\site-packages\\sklearn\\discriminant_analysis.py:935: UserWarning: Variables are collinear\n",
            "  warnings.warn(\"Variables are collinear\")\n",
            "C:\\Users\\vblys\\.conda\\envs\\AIIA\\lib\\site-packages\\sklearn\\discriminant_analysis.py:935: UserWarning: Variables are collinear\n",
            "  warnings.warn(\"Variables are collinear\")\n",
            "C:\\Users\\vblys\\.conda\\envs\\AIIA\\lib\\site-packages\\sklearn\\discriminant_analysis.py:935: UserWarning: Variables are collinear\n",
            "  warnings.warn(\"Variables are collinear\")\n",
            "C:\\Users\\vblys\\.conda\\envs\\AIIA\\lib\\site-packages\\sklearn\\discriminant_analysis.py:935: UserWarning: Variables are collinear\n",
            "  warnings.warn(\"Variables are collinear\")\n",
            "C:\\Users\\vblys\\.conda\\envs\\AIIA\\lib\\site-packages\\sklearn\\discriminant_analysis.py:935: UserWarning: Variables are collinear\n",
            "  warnings.warn(\"Variables are collinear\")\n",
            "C:\\Users\\vblys\\.conda\\envs\\AIIA\\lib\\site-packages\\sklearn\\discriminant_analysis.py:935: UserWarning: Variables are collinear\n",
            "  warnings.warn(\"Variables are collinear\")\n",
            "C:\\Users\\vblys\\.conda\\envs\\AIIA\\lib\\site-packages\\sklearn\\discriminant_analysis.py:935: UserWarning: Variables are collinear\n",
            "  warnings.warn(\"Variables are collinear\")\n",
            "C:\\Users\\vblys\\.conda\\envs\\AIIA\\lib\\site-packages\\sklearn\\discriminant_analysis.py:935: UserWarning: Variables are collinear\n",
            "  warnings.warn(\"Variables are collinear\")\n",
            "C:\\Users\\vblys\\.conda\\envs\\AIIA\\lib\\site-packages\\sklearn\\discriminant_analysis.py:935: UserWarning: Variables are collinear\n",
            "  warnings.warn(\"Variables are collinear\")\n",
            "C:\\Users\\vblys\\.conda\\envs\\AIIA\\lib\\site-packages\\sklearn\\discriminant_analysis.py:935: UserWarning: Variables are collinear\n",
            "  warnings.warn(\"Variables are collinear\")\n",
            "C:\\Users\\vblys\\.conda\\envs\\AIIA\\lib\\site-packages\\sklearn\\discriminant_analysis.py:935: UserWarning: Variables are collinear\n",
            "  warnings.warn(\"Variables are collinear\")\n",
            "C:\\Users\\vblys\\.conda\\envs\\AIIA\\lib\\site-packages\\sklearn\\discriminant_analysis.py:935: UserWarning: Variables are collinear\n",
            "  warnings.warn(\"Variables are collinear\")\n",
            "C:\\Users\\vblys\\.conda\\envs\\AIIA\\lib\\site-packages\\sklearn\\discriminant_analysis.py:935: UserWarning: Variables are collinear\n",
            "  warnings.warn(\"Variables are collinear\")\n",
            "C:\\Users\\vblys\\.conda\\envs\\AIIA\\lib\\site-packages\\sklearn\\discriminant_analysis.py:935: UserWarning: Variables are collinear\n",
            "  warnings.warn(\"Variables are collinear\")\n",
            "C:\\Users\\vblys\\.conda\\envs\\AIIA\\lib\\site-packages\\sklearn\\discriminant_analysis.py:935: UserWarning: Variables are collinear\n",
            "  warnings.warn(\"Variables are collinear\")\n",
            "C:\\Users\\vblys\\.conda\\envs\\AIIA\\lib\\site-packages\\sklearn\\discriminant_analysis.py:935: UserWarning: Variables are collinear\n",
            "  warnings.warn(\"Variables are collinear\")\n",
            "C:\\Users\\vblys\\.conda\\envs\\AIIA\\lib\\site-packages\\sklearn\\discriminant_analysis.py:935: UserWarning: Variables are collinear\n",
            "  warnings.warn(\"Variables are collinear\")\n",
            "C:\\Users\\vblys\\.conda\\envs\\AIIA\\lib\\site-packages\\sklearn\\discriminant_analysis.py:935: UserWarning: Variables are collinear\n",
            "  warnings.warn(\"Variables are collinear\")\n",
            "C:\\Users\\vblys\\.conda\\envs\\AIIA\\lib\\site-packages\\sklearn\\discriminant_analysis.py:935: UserWarning: Variables are collinear\n",
            "  warnings.warn(\"Variables are collinear\")\n",
            "C:\\Users\\vblys\\.conda\\envs\\AIIA\\lib\\site-packages\\sklearn\\discriminant_analysis.py:935: UserWarning: Variables are collinear\n",
            "  warnings.warn(\"Variables are collinear\")\n",
            "C:\\Users\\vblys\\.conda\\envs\\AIIA\\lib\\site-packages\\sklearn\\discriminant_analysis.py:935: UserWarning: Variables are collinear\n",
            "  warnings.warn(\"Variables are collinear\")\n",
            "C:\\Users\\vblys\\.conda\\envs\\AIIA\\lib\\site-packages\\sklearn\\discriminant_analysis.py:935: UserWarning: Variables are collinear\n",
            "  warnings.warn(\"Variables are collinear\")\n",
            "C:\\Users\\vblys\\.conda\\envs\\AIIA\\lib\\site-packages\\sklearn\\discriminant_analysis.py:935: UserWarning: Variables are collinear\n",
            "  warnings.warn(\"Variables are collinear\")\n",
            "C:\\Users\\vblys\\.conda\\envs\\AIIA\\lib\\site-packages\\sklearn\\discriminant_analysis.py:935: UserWarning: Variables are collinear\n",
            "  warnings.warn(\"Variables are collinear\")\n",
            "C:\\Users\\vblys\\.conda\\envs\\AIIA\\lib\\site-packages\\sklearn\\discriminant_analysis.py:935: UserWarning: Variables are collinear\n",
            "  warnings.warn(\"Variables are collinear\")\n",
            "C:\\Users\\vblys\\.conda\\envs\\AIIA\\lib\\site-packages\\sklearn\\discriminant_analysis.py:935: UserWarning: Variables are collinear\n",
            "  warnings.warn(\"Variables are collinear\")\n",
            "C:\\Users\\vblys\\.conda\\envs\\AIIA\\lib\\site-packages\\sklearn\\discriminant_analysis.py:935: UserWarning: Variables are collinear\n",
            "  warnings.warn(\"Variables are collinear\")\n",
            "C:\\Users\\vblys\\.conda\\envs\\AIIA\\lib\\site-packages\\sklearn\\discriminant_analysis.py:935: UserWarning: Variables are collinear\n",
            "  warnings.warn(\"Variables are collinear\")\n",
            "C:\\Users\\vblys\\.conda\\envs\\AIIA\\lib\\site-packages\\sklearn\\discriminant_analysis.py:935: UserWarning: Variables are collinear\n",
            "  warnings.warn(\"Variables are collinear\")\n",
            "C:\\Users\\vblys\\.conda\\envs\\AIIA\\lib\\site-packages\\sklearn\\discriminant_analysis.py:935: UserWarning: Variables are collinear\n",
            "  warnings.warn(\"Variables are collinear\")\n",
            "C:\\Users\\vblys\\.conda\\envs\\AIIA\\lib\\site-packages\\sklearn\\discriminant_analysis.py:935: UserWarning: Variables are collinear\n",
            "  warnings.warn(\"Variables are collinear\")\n",
            "C:\\Users\\vblys\\.conda\\envs\\AIIA\\lib\\site-packages\\sklearn\\discriminant_analysis.py:935: UserWarning: Variables are collinear\n",
            "  warnings.warn(\"Variables are collinear\")\n",
            "C:\\Users\\vblys\\.conda\\envs\\AIIA\\lib\\site-packages\\sklearn\\discriminant_analysis.py:935: UserWarning: Variables are collinear\n",
            "  warnings.warn(\"Variables are collinear\")\n",
            "C:\\Users\\vblys\\.conda\\envs\\AIIA\\lib\\site-packages\\sklearn\\discriminant_analysis.py:935: UserWarning: Variables are collinear\n",
            "  warnings.warn(\"Variables are collinear\")\n",
            "C:\\Users\\vblys\\.conda\\envs\\AIIA\\lib\\site-packages\\sklearn\\discriminant_analysis.py:935: UserWarning: Variables are collinear\n",
            "  warnings.warn(\"Variables are collinear\")\n",
            "C:\\Users\\vblys\\.conda\\envs\\AIIA\\lib\\site-packages\\sklearn\\discriminant_analysis.py:935: UserWarning: Variables are collinear\n",
            "  warnings.warn(\"Variables are collinear\")\n",
            "C:\\Users\\vblys\\.conda\\envs\\AIIA\\lib\\site-packages\\sklearn\\discriminant_analysis.py:935: UserWarning: Variables are collinear\n",
            "  warnings.warn(\"Variables are collinear\")\n",
            "C:\\Users\\vblys\\.conda\\envs\\AIIA\\lib\\site-packages\\sklearn\\discriminant_analysis.py:935: UserWarning: Variables are collinear\n",
            "  warnings.warn(\"Variables are collinear\")\n",
            "C:\\Users\\vblys\\.conda\\envs\\AIIA\\lib\\site-packages\\sklearn\\discriminant_analysis.py:935: UserWarning: Variables are collinear\n",
            "  warnings.warn(\"Variables are collinear\")\n"
          ]
        }
      ],
      "source": [
        "from sklearn.model_selection import GridSearchCV\n",
        "from sklearn.discriminant_analysis import LinearDiscriminantAnalysis, QuadraticDiscriminantAnalysis\n",
        "\n",
        "# Assuming X_train, y_train are already defined as our training data\n",
        "\n",
        "# For LDA\n",
        "lda = LinearDiscriminantAnalysis()\n",
        "lda_params = {\n",
        "    'solver': ['svd', 'lsqr', 'eigen'],\n",
        "    'shrinkage': [None, 'auto'] + list(np.arange(0, 1, 0.1))\n",
        "}\n",
        "lda_grid = GridSearchCV(lda, lda_params, cv=5, scoring='accuracy')\n",
        "lda_grid.fit(X_train_LDA, y_train_LDA)\n",
        "\n",
        "# For QDA\n",
        "qda = QuadraticDiscriminantAnalysis()\n",
        "qda_params = {\n",
        "    'reg_param': np.arange(0, 1, 0.1)\n",
        "}\n",
        "qda_grid = GridSearchCV(qda, qda_params, cv=5, scoring='accuracy', error_score='raise')\n",
        "qda_grid.fit(X_train_LDA, y_train_LDA)\n",
        "\n",
        "# store the best models\n",
        "lda_best_model = lda_grid.best_estimator_\n",
        "qda_best_model = qda_grid.best_estimator_"
      ],
      "metadata": {
        "id": "35df2a87864463e2",
        "outputId": "b7681e2a-1dc8-473e-8208-89ffb290a45a",
        "ExecuteTime": {
          "end_time": "2023-12-21T15:07:10.999147600Z",
          "start_time": "2023-12-21T15:07:09.073149200Z"
        }
      },
      "id": "35df2a87864463e2"
    },
    {
      "cell_type": "code",
      "execution_count": null,
      "outputs": [
        {
          "name": "stdout",
          "output_type": "stream",
          "text": [
            "LDA best parameters:  {'shrinkage': 0.7000000000000001, 'solver': 'lsqr'}\n",
            "LDA best score:  0.8783333333333333\n",
            "QDA best parameters:  {'reg_param': 0.8}\n",
            "QDA best score:  0.8775000000000001\n"
          ]
        }
      ],
      "source": [
        "# Best parameters and scores\n",
        "lda_best_params = lda_grid.best_params_\n",
        "lda_best_score = lda_grid.best_score_\n",
        "\n",
        "qda_best_params = qda_grid.best_params_\n",
        "qda_best_score = qda_grid.best_score_\n",
        "\n",
        "# Print\n",
        "print(\"LDA best parameters: \", lda_best_params)\n",
        "print(\"LDA best score: \", lda_best_score)\n",
        "print(\"QDA best parameters: \", qda_best_params)\n",
        "print(\"QDA best score: \", qda_best_score)\n"
      ],
      "metadata": {
        "id": "6b8df849d427fe3",
        "outputId": "d266ac54-e44f-4058-ec4f-b3dcffdea48c",
        "ExecuteTime": {
          "end_time": "2023-12-21T15:07:11.060147100Z",
          "start_time": "2023-12-21T15:07:10.990149Z"
        }
      },
      "id": "6b8df849d427fe3"
    },
    {
      "cell_type": "markdown",
      "source": [
        "## K-NN"
      ],
      "metadata": {
        "collapsed": false,
        "id": "a22b7b01030fc41a"
      },
      "id": "a22b7b01030fc41a"
    },
    {
      "cell_type": "markdown",
      "source": [
        "### Transforming data"
      ],
      "metadata": {
        "collapsed": false,
        "id": "9af10a06237f7101"
      },
      "id": "9af10a06237f7101"
    },
    {
      "cell_type": "code",
      "execution_count": null,
      "outputs": [],
      "source": [
        "def transform_Knn(train_set, test_set):\n",
        "    # Doing min/max scaling and standardization\n",
        "    for column in train_set.columns:\n",
        "        if column != 'increase_stock':\n",
        "            train_set[column] = (train_set[column] - train_set[column].mean()) / train_set[column].std()\n",
        "            # Min/max scaling\n",
        "            train_set[column] = (train_set[column] - train_set[column].min()) / (train_set[column].max() - train_set[column].min())\n",
        "    return train_set, test_set\n",
        "\n",
        "X_train_Knn = X_train.copy()\n",
        "y_train_Knn = y_train.copy()\n",
        "X_train_Knn, y_train_Knn = transform_Knn(X_train_Knn, y_train_Knn)"
      ],
      "metadata": {
        "id": "7abf47a10fdccaaf",
        "ExecuteTime": {
          "end_time": "2023-12-21T15:07:11.106147200Z",
          "start_time": "2023-12-21T15:07:11.006147700Z"
        }
      },
      "id": "7abf47a10fdccaaf"
    },
    {
      "cell_type": "markdown",
      "source": [
        "### Training"
      ],
      "metadata": {
        "collapsed": false,
        "id": "d3b19889b96191b0"
      },
      "id": "d3b19889b96191b0"
    },
    {
      "cell_type": "code",
      "execution_count": null,
      "outputs": [
        {
          "name": "stdout",
          "output_type": "stream",
          "text": [
            "Fitting 5 folds for each of 99 candidates, totalling 495 fits\n",
            "Best Parameters:  {'n_neighbors': 14}\n"
          ]
        },
        {
          "data": {
            "text/plain": "KNeighborsClassifier(n_neighbors=14)",
            "text/html": "<style>#sk-container-id-1 {color: black;}#sk-container-id-1 pre{padding: 0;}#sk-container-id-1 div.sk-toggleable {background-color: white;}#sk-container-id-1 label.sk-toggleable__label {cursor: pointer;display: block;width: 100%;margin-bottom: 0;padding: 0.3em;box-sizing: border-box;text-align: center;}#sk-container-id-1 label.sk-toggleable__label-arrow:before {content: \"▸\";float: left;margin-right: 0.25em;color: #696969;}#sk-container-id-1 label.sk-toggleable__label-arrow:hover:before {color: black;}#sk-container-id-1 div.sk-estimator:hover label.sk-toggleable__label-arrow:before {color: black;}#sk-container-id-1 div.sk-toggleable__content {max-height: 0;max-width: 0;overflow: hidden;text-align: left;background-color: #f0f8ff;}#sk-container-id-1 div.sk-toggleable__content pre {margin: 0.2em;color: black;border-radius: 0.25em;background-color: #f0f8ff;}#sk-container-id-1 input.sk-toggleable__control:checked~div.sk-toggleable__content {max-height: 200px;max-width: 100%;overflow: auto;}#sk-container-id-1 input.sk-toggleable__control:checked~label.sk-toggleable__label-arrow:before {content: \"▾\";}#sk-container-id-1 div.sk-estimator input.sk-toggleable__control:checked~label.sk-toggleable__label {background-color: #d4ebff;}#sk-container-id-1 div.sk-label input.sk-toggleable__control:checked~label.sk-toggleable__label {background-color: #d4ebff;}#sk-container-id-1 input.sk-hidden--visually {border: 0;clip: rect(1px 1px 1px 1px);clip: rect(1px, 1px, 1px, 1px);height: 1px;margin: -1px;overflow: hidden;padding: 0;position: absolute;width: 1px;}#sk-container-id-1 div.sk-estimator {font-family: monospace;background-color: #f0f8ff;border: 1px dotted black;border-radius: 0.25em;box-sizing: border-box;margin-bottom: 0.5em;}#sk-container-id-1 div.sk-estimator:hover {background-color: #d4ebff;}#sk-container-id-1 div.sk-parallel-item::after {content: \"\";width: 100%;border-bottom: 1px solid gray;flex-grow: 1;}#sk-container-id-1 div.sk-label:hover label.sk-toggleable__label {background-color: #d4ebff;}#sk-container-id-1 div.sk-serial::before {content: \"\";position: absolute;border-left: 1px solid gray;box-sizing: border-box;top: 0;bottom: 0;left: 50%;z-index: 0;}#sk-container-id-1 div.sk-serial {display: flex;flex-direction: column;align-items: center;background-color: white;padding-right: 0.2em;padding-left: 0.2em;position: relative;}#sk-container-id-1 div.sk-item {position: relative;z-index: 1;}#sk-container-id-1 div.sk-parallel {display: flex;align-items: stretch;justify-content: center;background-color: white;position: relative;}#sk-container-id-1 div.sk-item::before, #sk-container-id-1 div.sk-parallel-item::before {content: \"\";position: absolute;border-left: 1px solid gray;box-sizing: border-box;top: 0;bottom: 0;left: 50%;z-index: -1;}#sk-container-id-1 div.sk-parallel-item {display: flex;flex-direction: column;z-index: 1;position: relative;background-color: white;}#sk-container-id-1 div.sk-parallel-item:first-child::after {align-self: flex-end;width: 50%;}#sk-container-id-1 div.sk-parallel-item:last-child::after {align-self: flex-start;width: 50%;}#sk-container-id-1 div.sk-parallel-item:only-child::after {width: 0;}#sk-container-id-1 div.sk-dashed-wrapped {border: 1px dashed gray;margin: 0 0.4em 0.5em 0.4em;box-sizing: border-box;padding-bottom: 0.4em;background-color: white;}#sk-container-id-1 div.sk-label label {font-family: monospace;font-weight: bold;display: inline-block;line-height: 1.2em;}#sk-container-id-1 div.sk-label-container {text-align: center;}#sk-container-id-1 div.sk-container {/* jupyter's `normalize.less` sets `[hidden] { display: none; }` but bootstrap.min.css set `[hidden] { display: none !important; }` so we also need the `!important` here to be able to override the default hidden behavior on the sphinx rendered scikit-learn.org. See: https://github.com/scikit-learn/scikit-learn/issues/21755 */display: inline-block !important;position: relative;}#sk-container-id-1 div.sk-text-repr-fallback {display: none;}</style><div id=\"sk-container-id-1\" class=\"sk-top-container\"><div class=\"sk-text-repr-fallback\"><pre>KNeighborsClassifier(n_neighbors=14)</pre><b>In a Jupyter environment, please rerun this cell to show the HTML representation or trust the notebook. <br />On GitHub, the HTML representation is unable to render, please try loading this page with nbviewer.org.</b></div><div class=\"sk-container\" hidden><div class=\"sk-item\"><div class=\"sk-estimator sk-toggleable\"><input class=\"sk-toggleable__control sk-hidden--visually\" id=\"sk-estimator-id-1\" type=\"checkbox\" checked><label for=\"sk-estimator-id-1\" class=\"sk-toggleable__label sk-toggleable__label-arrow\">KNeighborsClassifier</label><div class=\"sk-toggleable__content\"><pre>KNeighborsClassifier(n_neighbors=14)</pre></div></div></div></div></div>"
          },
          "execution_count": 15,
          "metadata": {},
          "output_type": "execute_result"
        }
      ],
      "source": [
        "from sklearn.neighbors import KNeighborsClassifier\n",
        "from sklearn.model_selection import GridSearchCV\n",
        "\n",
        "# Define the parameter grid\n",
        "param_grid = {'n_neighbors': range(1, 100)}\n",
        "\n",
        "# Create a base model\n",
        "knn = KNeighborsClassifier()\n",
        "\n",
        "# Instantiate the grid search model\n",
        "grid_search = GridSearchCV(estimator = knn, param_grid = param_grid, cv = 5, n_jobs = -1, verbose = 2)\n",
        "\n",
        "# Fit the grid search to the data\n",
        "grid_search.fit(X_train_Knn, y_train_Knn)\n",
        "\n",
        "# Print the best parameters\n",
        "print(\"Best Parameters: \", grid_search.best_params_)\n",
        "\n",
        "# Get the best parameters\n",
        "best_params = grid_search.best_params_\n",
        "\n",
        "# Create a new model with the best parameters\n",
        "best_knn = KNeighborsClassifier(n_neighbors=best_params['n_neighbors'])\n",
        "\n",
        "# Fit the new model to the data\n",
        "best_knn.fit(X_train_Knn, y_train_Knn)"
      ],
      "metadata": {
        "id": "77771723725e101",
        "outputId": "b2e0c9f8-3102-44d5-bc48-c38183b03922",
        "ExecuteTime": {
          "end_time": "2023-12-21T15:07:13.611148900Z",
          "start_time": "2023-12-21T15:07:11.054147900Z"
        }
      },
      "id": "77771723725e101"
    },
    {
      "cell_type": "markdown",
      "source": [
        "## Random forest / Trees"
      ],
      "metadata": {
        "collapsed": false,
        "id": "35d9d582f14ff9b0"
      },
      "id": "35d9d582f14ff9b0"
    },
    {
      "cell_type": "markdown",
      "source": [
        "### Training"
      ],
      "metadata": {
        "collapsed": false,
        "id": "11079afd3c650d2b"
      },
      "id": "11079afd3c650d2b"
    },
    {
      "cell_type": "markdown",
      "source": [
        "#### Decision tree"
      ],
      "metadata": {
        "collapsed": false,
        "id": "c604683412799068"
      },
      "id": "c604683412799068"
    },
    {
      "cell_type": "code",
      "execution_count": null,
      "outputs": [],
      "source": [
        "from sklearn.tree import DecisionTreeClassifier\n",
        "\n",
        "basic_dt_clf = DecisionTreeClassifier(random_state=1477)\n",
        "# parametrs for grid search\n",
        "param_grid = {\n",
        "    'max_depth': range(1, 7, 1),\n",
        "    'min_samples_split': range(2, 25, 2),\n",
        "    'min_samples_leaf': range(1, 11, 1)\n",
        "}"
      ],
      "metadata": {
        "id": "5b971c69a58608fc",
        "ExecuteTime": {
          "end_time": "2023-12-21T15:07:13.667146800Z",
          "start_time": "2023-12-21T15:07:13.610149200Z"
        }
      },
      "id": "5b971c69a58608fc"
    },
    {
      "cell_type": "code",
      "execution_count": null,
      "outputs": [
        {
          "data": {
            "text/plain": "GridSearchCV(cv=KFold(n_splits=5, random_state=1477, shuffle=True),\n             estimator=DecisionTreeClassifier(random_state=1477), n_jobs=-1,\n             param_grid={'max_depth': range(1, 7),\n                         'min_samples_leaf': range(1, 11),\n                         'min_samples_split': range(2, 25, 2)},\n             scoring='accuracy')",
            "text/html": "<style>#sk-container-id-2 {color: black;}#sk-container-id-2 pre{padding: 0;}#sk-container-id-2 div.sk-toggleable {background-color: white;}#sk-container-id-2 label.sk-toggleable__label {cursor: pointer;display: block;width: 100%;margin-bottom: 0;padding: 0.3em;box-sizing: border-box;text-align: center;}#sk-container-id-2 label.sk-toggleable__label-arrow:before {content: \"▸\";float: left;margin-right: 0.25em;color: #696969;}#sk-container-id-2 label.sk-toggleable__label-arrow:hover:before {color: black;}#sk-container-id-2 div.sk-estimator:hover label.sk-toggleable__label-arrow:before {color: black;}#sk-container-id-2 div.sk-toggleable__content {max-height: 0;max-width: 0;overflow: hidden;text-align: left;background-color: #f0f8ff;}#sk-container-id-2 div.sk-toggleable__content pre {margin: 0.2em;color: black;border-radius: 0.25em;background-color: #f0f8ff;}#sk-container-id-2 input.sk-toggleable__control:checked~div.sk-toggleable__content {max-height: 200px;max-width: 100%;overflow: auto;}#sk-container-id-2 input.sk-toggleable__control:checked~label.sk-toggleable__label-arrow:before {content: \"▾\";}#sk-container-id-2 div.sk-estimator input.sk-toggleable__control:checked~label.sk-toggleable__label {background-color: #d4ebff;}#sk-container-id-2 div.sk-label input.sk-toggleable__control:checked~label.sk-toggleable__label {background-color: #d4ebff;}#sk-container-id-2 input.sk-hidden--visually {border: 0;clip: rect(1px 1px 1px 1px);clip: rect(1px, 1px, 1px, 1px);height: 1px;margin: -1px;overflow: hidden;padding: 0;position: absolute;width: 1px;}#sk-container-id-2 div.sk-estimator {font-family: monospace;background-color: #f0f8ff;border: 1px dotted black;border-radius: 0.25em;box-sizing: border-box;margin-bottom: 0.5em;}#sk-container-id-2 div.sk-estimator:hover {background-color: #d4ebff;}#sk-container-id-2 div.sk-parallel-item::after {content: \"\";width: 100%;border-bottom: 1px solid gray;flex-grow: 1;}#sk-container-id-2 div.sk-label:hover label.sk-toggleable__label {background-color: #d4ebff;}#sk-container-id-2 div.sk-serial::before {content: \"\";position: absolute;border-left: 1px solid gray;box-sizing: border-box;top: 0;bottom: 0;left: 50%;z-index: 0;}#sk-container-id-2 div.sk-serial {display: flex;flex-direction: column;align-items: center;background-color: white;padding-right: 0.2em;padding-left: 0.2em;position: relative;}#sk-container-id-2 div.sk-item {position: relative;z-index: 1;}#sk-container-id-2 div.sk-parallel {display: flex;align-items: stretch;justify-content: center;background-color: white;position: relative;}#sk-container-id-2 div.sk-item::before, #sk-container-id-2 div.sk-parallel-item::before {content: \"\";position: absolute;border-left: 1px solid gray;box-sizing: border-box;top: 0;bottom: 0;left: 50%;z-index: -1;}#sk-container-id-2 div.sk-parallel-item {display: flex;flex-direction: column;z-index: 1;position: relative;background-color: white;}#sk-container-id-2 div.sk-parallel-item:first-child::after {align-self: flex-end;width: 50%;}#sk-container-id-2 div.sk-parallel-item:last-child::after {align-self: flex-start;width: 50%;}#sk-container-id-2 div.sk-parallel-item:only-child::after {width: 0;}#sk-container-id-2 div.sk-dashed-wrapped {border: 1px dashed gray;margin: 0 0.4em 0.5em 0.4em;box-sizing: border-box;padding-bottom: 0.4em;background-color: white;}#sk-container-id-2 div.sk-label label {font-family: monospace;font-weight: bold;display: inline-block;line-height: 1.2em;}#sk-container-id-2 div.sk-label-container {text-align: center;}#sk-container-id-2 div.sk-container {/* jupyter's `normalize.less` sets `[hidden] { display: none; }` but bootstrap.min.css set `[hidden] { display: none !important; }` so we also need the `!important` here to be able to override the default hidden behavior on the sphinx rendered scikit-learn.org. See: https://github.com/scikit-learn/scikit-learn/issues/21755 */display: inline-block !important;position: relative;}#sk-container-id-2 div.sk-text-repr-fallback {display: none;}</style><div id=\"sk-container-id-2\" class=\"sk-top-container\"><div class=\"sk-text-repr-fallback\"><pre>GridSearchCV(cv=KFold(n_splits=5, random_state=1477, shuffle=True),\n             estimator=DecisionTreeClassifier(random_state=1477), n_jobs=-1,\n             param_grid={&#x27;max_depth&#x27;: range(1, 7),\n                         &#x27;min_samples_leaf&#x27;: range(1, 11),\n                         &#x27;min_samples_split&#x27;: range(2, 25, 2)},\n             scoring=&#x27;accuracy&#x27;)</pre><b>In a Jupyter environment, please rerun this cell to show the HTML representation or trust the notebook. <br />On GitHub, the HTML representation is unable to render, please try loading this page with nbviewer.org.</b></div><div class=\"sk-container\" hidden><div class=\"sk-item sk-dashed-wrapped\"><div class=\"sk-label-container\"><div class=\"sk-label sk-toggleable\"><input class=\"sk-toggleable__control sk-hidden--visually\" id=\"sk-estimator-id-2\" type=\"checkbox\" ><label for=\"sk-estimator-id-2\" class=\"sk-toggleable__label sk-toggleable__label-arrow\">GridSearchCV</label><div class=\"sk-toggleable__content\"><pre>GridSearchCV(cv=KFold(n_splits=5, random_state=1477, shuffle=True),\n             estimator=DecisionTreeClassifier(random_state=1477), n_jobs=-1,\n             param_grid={&#x27;max_depth&#x27;: range(1, 7),\n                         &#x27;min_samples_leaf&#x27;: range(1, 11),\n                         &#x27;min_samples_split&#x27;: range(2, 25, 2)},\n             scoring=&#x27;accuracy&#x27;)</pre></div></div></div><div class=\"sk-parallel\"><div class=\"sk-parallel-item\"><div class=\"sk-item\"><div class=\"sk-label-container\"><div class=\"sk-label sk-toggleable\"><input class=\"sk-toggleable__control sk-hidden--visually\" id=\"sk-estimator-id-3\" type=\"checkbox\" ><label for=\"sk-estimator-id-3\" class=\"sk-toggleable__label sk-toggleable__label-arrow\">estimator: DecisionTreeClassifier</label><div class=\"sk-toggleable__content\"><pre>DecisionTreeClassifier(random_state=1477)</pre></div></div></div><div class=\"sk-serial\"><div class=\"sk-item\"><div class=\"sk-estimator sk-toggleable\"><input class=\"sk-toggleable__control sk-hidden--visually\" id=\"sk-estimator-id-4\" type=\"checkbox\" ><label for=\"sk-estimator-id-4\" class=\"sk-toggleable__label sk-toggleable__label-arrow\">DecisionTreeClassifier</label><div class=\"sk-toggleable__content\"><pre>DecisionTreeClassifier(random_state=1477)</pre></div></div></div></div></div></div></div></div></div></div>"
          },
          "execution_count": 17,
          "metadata": {},
          "output_type": "execute_result"
        }
      ],
      "source": [
        "from sklearn.model_selection import KFold\n",
        "\n",
        "cv = KFold(n_splits=5, shuffle=True, random_state=1477)\n",
        "gs_dt_clf = GridSearchCV(estimator=basic_dt_clf, param_grid=param_grid, n_jobs=-1, cv=cv, scoring='accuracy')\n",
        "gs_dt_clf.fit(X_train, y_train)"
      ],
      "metadata": {
        "id": "548adab98510da7c",
        "outputId": "d27bb1e0-d557-4335-94b6-e6614c632ea6",
        "ExecuteTime": {
          "end_time": "2023-12-21T15:07:20.258149600Z",
          "start_time": "2023-12-21T15:07:13.658148Z"
        }
      },
      "id": "548adab98510da7c"
    },
    {
      "cell_type": "code",
      "source": [
        "# Print the best parameters\n",
        "print(\"Best Parameters: \", gs_dt_clf.best_params_)"
      ],
      "metadata": {
        "colab": {
          "base_uri": "https://localhost:8080/"
        },
        "id": "PUumjL-BQ-YP",
        "outputId": "31ed8232-8dff-4841-8fed-f3270396ae50"
      },
      "id": "PUumjL-BQ-YP",
      "execution_count": null,
      "outputs": [
        {
          "output_type": "stream",
          "name": "stdout",
          "text": [
            "Best Parameters:  {'max_depth': 5, 'min_samples_leaf': 8, 'min_samples_split': 2}\n"
          ]
        },
        {
          "output_type": "stream",
          "name": "stderr",
          "text": [
            "/usr/local/lib/python3.10/dist-packages/ipykernel/ipkernel.py:283: DeprecationWarning: `should_run_async` will not call `transform_cell` automatically in the future. Please pass the result to `transformed_cell` argument and any exception that happen during thetransform in `preprocessing_exc_tuple` in IPython 7.17 and above.\n",
            "  and should_run_async(code)\n"
          ]
        }
      ]
    },
    {
      "cell_type": "markdown",
      "source": [
        "#### Decision tree with hierarchical shrinkage"
      ],
      "metadata": {
        "collapsed": false,
        "id": "3148b9dcba810037"
      },
      "id": "3148b9dcba810037"
    },
    {
      "cell_type": "code",
      "execution_count": null,
      "outputs": [],
      "source": [
        "from imodels import HSTreeClassifierCV, get_clean_dataset\n",
        "# Converting X_train to numpy array X_train_HS\n",
        "X_train_HS = X_train.to_numpy()\n",
        "# Converting y_train to numpy array y_train_HS\n",
        "y_train_HS = y_train.to_numpy()\n",
        "# Storing feature names in list feature_names_HS\n",
        "feature_names_HS = list(X_train.columns)"
      ],
      "metadata": {
        "ExecuteTime": {
          "end_time": "2023-12-21T15:07:20.713178500Z",
          "start_time": "2023-12-21T15:07:20.255149300Z"
        },
        "id": "e302aaf4c547688d"
      },
      "id": "e302aaf4c547688d"
    },
    {
      "cell_type": "code",
      "execution_count": null,
      "outputs": [],
      "source": [
        "HS_DT = HSTreeClassifierCV(max_leaf_nodes=5)\n",
        "HS_DT.fit(X_train_HS, y_train_HS)"
      ],
      "metadata": {
        "ExecuteTime": {
          "end_time": "2023-12-21T15:07:20.853146500Z",
          "start_time": "2023-12-21T15:07:20.716147200Z"
        },
        "id": "4a21ad4b46d1be67"
      },
      "id": "4a21ad4b46d1be67"
    },
    {
      "cell_type": "markdown",
      "source": [
        "#### Random forest"
      ],
      "metadata": {
        "collapsed": false,
        "id": "ea8dcf521660db91"
      },
      "id": "ea8dcf521660db91"
    },
    {
      "cell_type": "code",
      "execution_count": null,
      "outputs": [],
      "source": [
        "param_grid = {\n",
        "    'n_estimators': range(50, 651, 200),\n",
        "    'max_depth': range(5, 8, 1),\n",
        "    'min_samples_split': range(2, 21, 4),\n",
        "    'min_samples_leaf': range(1, 6, 1),\n",
        "}"
      ],
      "metadata": {
        "id": "9bc0abcac13ce1ac",
        "ExecuteTime": {
          "end_time": "2023-12-21T15:07:20.881149400Z",
          "start_time": "2023-12-21T15:07:20.857151600Z"
        }
      },
      "id": "9bc0abcac13ce1ac"
    },
    {
      "cell_type": "code",
      "execution_count": null,
      "outputs": [
        {
          "data": {
            "text/plain": "GridSearchCV(cv=StratifiedKFold(n_splits=5, random_state=1477, shuffle=True),\n             estimator=RandomForestClassifier(n_jobs=-1, random_state=2036),\n             n_jobs=-1,\n             param_grid={'max_depth': range(5, 8),\n                         'min_samples_leaf': range(1, 6),\n                         'min_samples_split': range(2, 21, 4),\n                         'n_estimators': range(50, 651, 200)},\n             scoring='accuracy')",
            "text/html": "<style>#sk-container-id-3 {color: black;}#sk-container-id-3 pre{padding: 0;}#sk-container-id-3 div.sk-toggleable {background-color: white;}#sk-container-id-3 label.sk-toggleable__label {cursor: pointer;display: block;width: 100%;margin-bottom: 0;padding: 0.3em;box-sizing: border-box;text-align: center;}#sk-container-id-3 label.sk-toggleable__label-arrow:before {content: \"▸\";float: left;margin-right: 0.25em;color: #696969;}#sk-container-id-3 label.sk-toggleable__label-arrow:hover:before {color: black;}#sk-container-id-3 div.sk-estimator:hover label.sk-toggleable__label-arrow:before {color: black;}#sk-container-id-3 div.sk-toggleable__content {max-height: 0;max-width: 0;overflow: hidden;text-align: left;background-color: #f0f8ff;}#sk-container-id-3 div.sk-toggleable__content pre {margin: 0.2em;color: black;border-radius: 0.25em;background-color: #f0f8ff;}#sk-container-id-3 input.sk-toggleable__control:checked~div.sk-toggleable__content {max-height: 200px;max-width: 100%;overflow: auto;}#sk-container-id-3 input.sk-toggleable__control:checked~label.sk-toggleable__label-arrow:before {content: \"▾\";}#sk-container-id-3 div.sk-estimator input.sk-toggleable__control:checked~label.sk-toggleable__label {background-color: #d4ebff;}#sk-container-id-3 div.sk-label input.sk-toggleable__control:checked~label.sk-toggleable__label {background-color: #d4ebff;}#sk-container-id-3 input.sk-hidden--visually {border: 0;clip: rect(1px 1px 1px 1px);clip: rect(1px, 1px, 1px, 1px);height: 1px;margin: -1px;overflow: hidden;padding: 0;position: absolute;width: 1px;}#sk-container-id-3 div.sk-estimator {font-family: monospace;background-color: #f0f8ff;border: 1px dotted black;border-radius: 0.25em;box-sizing: border-box;margin-bottom: 0.5em;}#sk-container-id-3 div.sk-estimator:hover {background-color: #d4ebff;}#sk-container-id-3 div.sk-parallel-item::after {content: \"\";width: 100%;border-bottom: 1px solid gray;flex-grow: 1;}#sk-container-id-3 div.sk-label:hover label.sk-toggleable__label {background-color: #d4ebff;}#sk-container-id-3 div.sk-serial::before {content: \"\";position: absolute;border-left: 1px solid gray;box-sizing: border-box;top: 0;bottom: 0;left: 50%;z-index: 0;}#sk-container-id-3 div.sk-serial {display: flex;flex-direction: column;align-items: center;background-color: white;padding-right: 0.2em;padding-left: 0.2em;position: relative;}#sk-container-id-3 div.sk-item {position: relative;z-index: 1;}#sk-container-id-3 div.sk-parallel {display: flex;align-items: stretch;justify-content: center;background-color: white;position: relative;}#sk-container-id-3 div.sk-item::before, #sk-container-id-3 div.sk-parallel-item::before {content: \"\";position: absolute;border-left: 1px solid gray;box-sizing: border-box;top: 0;bottom: 0;left: 50%;z-index: -1;}#sk-container-id-3 div.sk-parallel-item {display: flex;flex-direction: column;z-index: 1;position: relative;background-color: white;}#sk-container-id-3 div.sk-parallel-item:first-child::after {align-self: flex-end;width: 50%;}#sk-container-id-3 div.sk-parallel-item:last-child::after {align-self: flex-start;width: 50%;}#sk-container-id-3 div.sk-parallel-item:only-child::after {width: 0;}#sk-container-id-3 div.sk-dashed-wrapped {border: 1px dashed gray;margin: 0 0.4em 0.5em 0.4em;box-sizing: border-box;padding-bottom: 0.4em;background-color: white;}#sk-container-id-3 div.sk-label label {font-family: monospace;font-weight: bold;display: inline-block;line-height: 1.2em;}#sk-container-id-3 div.sk-label-container {text-align: center;}#sk-container-id-3 div.sk-container {/* jupyter's `normalize.less` sets `[hidden] { display: none; }` but bootstrap.min.css set `[hidden] { display: none !important; }` so we also need the `!important` here to be able to override the default hidden behavior on the sphinx rendered scikit-learn.org. See: https://github.com/scikit-learn/scikit-learn/issues/21755 */display: inline-block !important;position: relative;}#sk-container-id-3 div.sk-text-repr-fallback {display: none;}</style><div id=\"sk-container-id-3\" class=\"sk-top-container\"><div class=\"sk-text-repr-fallback\"><pre>GridSearchCV(cv=StratifiedKFold(n_splits=5, random_state=1477, shuffle=True),\n             estimator=RandomForestClassifier(n_jobs=-1, random_state=2036),\n             n_jobs=-1,\n             param_grid={&#x27;max_depth&#x27;: range(5, 8),\n                         &#x27;min_samples_leaf&#x27;: range(1, 6),\n                         &#x27;min_samples_split&#x27;: range(2, 21, 4),\n                         &#x27;n_estimators&#x27;: range(50, 651, 200)},\n             scoring=&#x27;accuracy&#x27;)</pre><b>In a Jupyter environment, please rerun this cell to show the HTML representation or trust the notebook. <br />On GitHub, the HTML representation is unable to render, please try loading this page with nbviewer.org.</b></div><div class=\"sk-container\" hidden><div class=\"sk-item sk-dashed-wrapped\"><div class=\"sk-label-container\"><div class=\"sk-label sk-toggleable\"><input class=\"sk-toggleable__control sk-hidden--visually\" id=\"sk-estimator-id-5\" type=\"checkbox\" ><label for=\"sk-estimator-id-5\" class=\"sk-toggleable__label sk-toggleable__label-arrow\">GridSearchCV</label><div class=\"sk-toggleable__content\"><pre>GridSearchCV(cv=StratifiedKFold(n_splits=5, random_state=1477, shuffle=True),\n             estimator=RandomForestClassifier(n_jobs=-1, random_state=2036),\n             n_jobs=-1,\n             param_grid={&#x27;max_depth&#x27;: range(5, 8),\n                         &#x27;min_samples_leaf&#x27;: range(1, 6),\n                         &#x27;min_samples_split&#x27;: range(2, 21, 4),\n                         &#x27;n_estimators&#x27;: range(50, 651, 200)},\n             scoring=&#x27;accuracy&#x27;)</pre></div></div></div><div class=\"sk-parallel\"><div class=\"sk-parallel-item\"><div class=\"sk-item\"><div class=\"sk-label-container\"><div class=\"sk-label sk-toggleable\"><input class=\"sk-toggleable__control sk-hidden--visually\" id=\"sk-estimator-id-6\" type=\"checkbox\" ><label for=\"sk-estimator-id-6\" class=\"sk-toggleable__label sk-toggleable__label-arrow\">estimator: RandomForestClassifier</label><div class=\"sk-toggleable__content\"><pre>RandomForestClassifier(n_jobs=-1, random_state=2036)</pre></div></div></div><div class=\"sk-serial\"><div class=\"sk-item\"><div class=\"sk-estimator sk-toggleable\"><input class=\"sk-toggleable__control sk-hidden--visually\" id=\"sk-estimator-id-7\" type=\"checkbox\" ><label for=\"sk-estimator-id-7\" class=\"sk-toggleable__label sk-toggleable__label-arrow\">RandomForestClassifier</label><div class=\"sk-toggleable__content\"><pre>RandomForestClassifier(n_jobs=-1, random_state=2036)</pre></div></div></div></div></div></div></div></div></div></div>"
          },
          "execution_count": 21,
          "metadata": {},
          "output_type": "execute_result"
        }
      ],
      "source": [
        "from sklearn.ensemble import RandomForestClassifier\n",
        "from sklearn.model_selection import StratifiedKFold\n",
        "\n",
        "basic_rf_clf = RandomForestClassifier(random_state=2036, n_jobs=-1)\n",
        "\n",
        "cv = StratifiedKFold(n_splits=5, shuffle=True, random_state=1477)\n",
        "gs_rf_clf = GridSearchCV(estimator=basic_rf_clf, param_grid=param_grid, n_jobs=-1, cv=cv, scoring='accuracy')\n",
        "gs_rf_clf.fit(X_train, y_train)"
      ],
      "metadata": {
        "id": "2a1f4faeba06d051",
        "outputId": "c9c5f080-c035-49d9-9c33-7fd1aabbc1d2",
        "ExecuteTime": {
          "end_time": "2023-12-21T15:12:11.958224400Z",
          "start_time": "2023-12-21T15:07:20.882147Z"
        }
      },
      "id": "2a1f4faeba06d051"
    },
    {
      "cell_type": "code",
      "source": [
        "# Print the best parameters\n",
        "print(\"Best Parameters: \", gs_rf_clf.best_params_)"
      ],
      "metadata": {
        "colab": {
          "base_uri": "https://localhost:8080/"
        },
        "id": "ViOx58mIRJ87",
        "outputId": "6a79d3f4-d22b-46aa-9c89-7b4f94ab8b12"
      },
      "id": "ViOx58mIRJ87",
      "execution_count": null,
      "outputs": [
        {
          "output_type": "stream",
          "name": "stdout",
          "text": [
            "Best Parameters:  {'max_depth': 7, 'min_samples_leaf': 4, 'min_samples_split': 14, 'n_estimators': 250}\n"
          ]
        },
        {
          "output_type": "stream",
          "name": "stderr",
          "text": [
            "/usr/local/lib/python3.10/dist-packages/ipykernel/ipkernel.py:283: DeprecationWarning: `should_run_async` will not call `transform_cell` automatically in the future. Please pass the result to `transformed_cell` argument and any exception that happen during thetransform in `preprocessing_exc_tuple` in IPython 7.17 and above.\n",
            "  and should_run_async(code)\n"
          ]
        }
      ]
    },
    {
      "cell_type": "markdown",
      "source": [
        "#### HS Random forest"
      ],
      "metadata": {
        "collapsed": false,
        "id": "a67fb81978949ac6"
      },
      "id": "a67fb81978949ac6"
    },
    {
      "cell_type": "code",
      "execution_count": null,
      "outputs": [],
      "source": [
        "from imodels import HSTreeClassifier\n",
        "from sklearn.ensemble import RandomForestClassifier\n",
        "ensemble = RandomForestClassifier()\n",
        "HSRF_model = HSTreeClassifierCV(estimator_=basic_rf_clf)\n",
        "HSRF_model.fit(X_train_HS, y_train_HS)"
      ],
      "metadata": {
        "ExecuteTime": {
          "end_time": "2023-12-21T15:12:24.935756700Z",
          "start_time": "2023-12-21T15:12:11.960216200Z"
        },
        "id": "cd7659ab415b74ce"
      },
      "id": "cd7659ab415b74ce"
    },
    {
      "cell_type": "markdown",
      "source": [
        "### Creating model for"
      ],
      "metadata": {
        "collapsed": false,
        "id": "54f0f061d666527e"
      },
      "id": "54f0f061d666527e"
    },
    {
      "cell_type": "markdown",
      "source": [
        "# Creating naive model always guessing 0"
      ],
      "metadata": {
        "collapsed": false,
        "id": "88485235f1accb5c"
      },
      "id": "88485235f1accb5c"
    },
    {
      "cell_type": "code",
      "execution_count": null,
      "outputs": [],
      "source": [
        "# Creating naive model always guessing 0\n",
        "def naive_model(train_set):\n",
        "    # Returning vector of zeros with length of train_set\n",
        "    return np.zeros(len(train_set))"
      ],
      "metadata": {
        "id": "1b285b48e4f15c5d",
        "ExecuteTime": {
          "end_time": "2023-12-21T15:12:24.952759300Z",
          "start_time": "2023-12-21T15:12:24.937759700Z"
        }
      },
      "id": "1b285b48e4f15c5d"
    },
    {
      "cell_type": "markdown",
      "source": [
        "# Testing the models"
      ],
      "metadata": {
        "collapsed": false,
        "id": "868351c4484eecc4"
      },
      "id": "868351c4484eecc4"
    },
    {
      "cell_type": "markdown",
      "source": [
        "Doing naive predictions on test set"
      ],
      "metadata": {
        "collapsed": false,
        "id": "36eb521babf9c61a"
      },
      "id": "36eb521babf9c61a"
    },
    {
      "cell_type": "code",
      "execution_count": null,
      "outputs": [],
      "source": [
        "x_test_naive = X_test.copy()\n",
        "y_test_naive = y_test.copy()\n",
        "y_pred_naive = naive_model(x_test_naive)"
      ],
      "metadata": {
        "id": "99dee86f55b5f0c",
        "ExecuteTime": {
          "end_time": "2023-12-21T15:12:24.986757600Z",
          "start_time": "2023-12-21T15:12:24.956758700Z"
        }
      },
      "id": "99dee86f55b5f0c"
    },
    {
      "cell_type": "markdown",
      "source": [
        "Doing predictions on test set with logistic reg"
      ],
      "metadata": {
        "collapsed": false,
        "id": "b6b447646405e822"
      },
      "id": "b6b447646405e822"
    },
    {
      "cell_type": "code",
      "execution_count": null,
      "outputs": [],
      "source": [
        "# Logistic regression\n",
        "X_test_logistic = X_test.copy()\n",
        "y_test_logistic = y_test.copy()\n",
        "X_test_logistic, y_test_logistic = create_transformed_data(X_test_logistic, y_test_logistic)\n",
        "y_pred_logistic = logistic_model.predict(X_test_logistic)"
      ],
      "metadata": {
        "id": "e275fb620887b993",
        "ExecuteTime": {
          "end_time": "2023-12-21T15:12:25.027758Z",
          "start_time": "2023-12-21T15:12:24.971759700Z"
        }
      },
      "id": "e275fb620887b993"
    },
    {
      "cell_type": "markdown",
      "source": [
        "Doing predictions on test set with LDA"
      ],
      "metadata": {
        "collapsed": false,
        "id": "a116ea7e773be7e3"
      },
      "id": "a116ea7e773be7e3"
    },
    {
      "cell_type": "code",
      "execution_count": null,
      "outputs": [],
      "source": [
        "# LDA\n",
        "X_test_LDA = X_test.copy()\n",
        "y_test_LDA = y_test.copy()\n",
        "X_test_LDA, y_test_LDA = create_transformed_data(X_test_LDA, y_test_LDA)\n",
        "y_pred_LDA = lda_best_model.predict(X_test_LDA)"
      ],
      "metadata": {
        "id": "21ef40d71666f5c6",
        "ExecuteTime": {
          "end_time": "2023-12-21T15:12:25.057756Z",
          "start_time": "2023-12-21T15:12:25.002758700Z"
        }
      },
      "id": "21ef40d71666f5c6"
    },
    {
      "cell_type": "markdown",
      "source": [
        "Doing predictions on test set with QDA"
      ],
      "metadata": {
        "collapsed": false,
        "id": "758a670bc1c613c9"
      },
      "id": "758a670bc1c613c9"
    },
    {
      "cell_type": "code",
      "execution_count": null,
      "outputs": [],
      "source": [
        "x_test_QDA = X_test.copy()\n",
        "y_test_QDA = y_test.copy()\n",
        "x_test_QDA, y_test_QDA = create_transformed_data(x_test_QDA, y_test_QDA)\n",
        "y_pred_QDA = qda_best_model.predict(x_test_QDA)"
      ],
      "metadata": {
        "id": "e737f3771ca1d1a8",
        "ExecuteTime": {
          "end_time": "2023-12-21T15:12:25.085756200Z",
          "start_time": "2023-12-21T15:12:25.035758600Z"
        }
      },
      "id": "e737f3771ca1d1a8"
    },
    {
      "cell_type": "markdown",
      "source": [
        "Doing predictions on test set with K-NN"
      ],
      "metadata": {
        "collapsed": false,
        "id": "254c35ffadd16113"
      },
      "id": "254c35ffadd16113"
    },
    {
      "cell_type": "code",
      "execution_count": null,
      "outputs": [],
      "source": [
        "# K-NN\n",
        "X_test_Knn = X_test.copy()\n",
        "y_test_Knn = y_test.copy()\n",
        "X_test_Knn, y_test_Knn = transform_Knn(X_test_Knn, y_test_Knn)\n",
        "y_pred_Knn = best_knn.predict(X_test_Knn)"
      ],
      "metadata": {
        "id": "c2dda9e9efdf0da9",
        "ExecuteTime": {
          "end_time": "2023-12-21T15:12:25.117758800Z",
          "start_time": "2023-12-21T15:12:25.067758800Z"
        }
      },
      "id": "c2dda9e9efdf0da9"
    },
    {
      "cell_type": "markdown",
      "source": [
        "Doing prediction on test set with Decision tree"
      ],
      "metadata": {
        "collapsed": false,
        "id": "62d05ec8254502a2"
      },
      "id": "62d05ec8254502a2"
    },
    {
      "cell_type": "code",
      "execution_count": null,
      "outputs": [],
      "source": [
        "y_pred_dt = gs_dt_clf.predict(X_test)"
      ],
      "metadata": {
        "id": "2d7e608fd2df57c1",
        "ExecuteTime": {
          "end_time": "2023-12-21T15:12:25.132761Z",
          "start_time": "2023-12-21T15:12:25.114758700Z"
        }
      },
      "id": "2d7e608fd2df57c1"
    },
    {
      "cell_type": "markdown",
      "source": [
        "Doing prediction on test set with Random forest"
      ],
      "metadata": {
        "collapsed": false,
        "id": "a204964483739ab7"
      },
      "id": "a204964483739ab7"
    },
    {
      "cell_type": "code",
      "execution_count": null,
      "outputs": [],
      "source": [
        "y_pred_rf = gs_rf_clf.predict(X_test)"
      ],
      "metadata": {
        "id": "721415c68143914f",
        "ExecuteTime": {
          "end_time": "2023-12-21T15:12:25.191757Z",
          "start_time": "2023-12-21T15:12:25.131759300Z"
        }
      },
      "id": "721415c68143914f"
    },
    {
      "cell_type": "markdown",
      "source": [
        "Doing prediction on test set with hierarchical shrinkage"
      ],
      "metadata": {
        "collapsed": false,
        "id": "14d513de059d8c22"
      },
      "id": "14d513de059d8c22"
    },
    {
      "cell_type": "code",
      "execution_count": null,
      "outputs": [],
      "source": [
        "y_pred_HS = HS_DT.predict(X_test.to_numpy())"
      ],
      "metadata": {
        "ExecuteTime": {
          "end_time": "2023-12-21T15:12:25.207757700Z",
          "start_time": "2023-12-21T15:12:25.193757700Z"
        },
        "id": "c49fa042d592ac73"
      },
      "id": "c49fa042d592ac73"
    },
    {
      "cell_type": "markdown",
      "source": [
        "Doing prediction on test set with hierarchical shrinkage and random forest"
      ],
      "metadata": {
        "collapsed": false,
        "id": "6fb246ed2cf65670"
      },
      "id": "6fb246ed2cf65670"
    },
    {
      "cell_type": "code",
      "execution_count": null,
      "outputs": [],
      "source": [
        "y_pred_HS_RF = HSRF_model.predict(X_test.to_numpy())"
      ],
      "metadata": {
        "ExecuteTime": {
          "end_time": "2023-12-21T15:12:25.252756400Z",
          "start_time": "2023-12-21T15:12:25.208758400Z"
        },
        "id": "8cc5b896816ebda2"
      },
      "id": "8cc5b896816ebda2"
    },
    {
      "cell_type": "markdown",
      "source": [
        "## Compraing predictions between the models"
      ],
      "metadata": {
        "collapsed": false,
        "id": "2345bbfc23613050"
      },
      "id": "2345bbfc23613050"
    },
    {
      "cell_type": "code",
      "execution_count": null,
      "outputs": [
        {
          "name": "stdout",
          "output_type": "stream",
          "text": [
            "Logistic regression\n",
            "              precision    recall  f1-score   support\n",
            "\n",
            "           0    0.90855   0.93902   0.92354       328\n",
            "           1    0.67213   0.56944   0.61654        72\n",
            "\n",
            "    accuracy                        0.87250       400\n",
            "   macro avg    0.79034   0.75423   0.77004       400\n",
            "weighted avg    0.86600   0.87250   0.86828       400\n",
            "\n",
            "LDA\n",
            "              precision    recall  f1-score   support\n",
            "\n",
            "           0    0.91843   0.92683   0.92261       328\n",
            "           1    0.65217   0.62500   0.63830        72\n",
            "\n",
            "    accuracy                        0.87250       400\n",
            "   macro avg    0.78530   0.77591   0.78045       400\n",
            "weighted avg    0.87050   0.87250   0.87143       400\n",
            "\n",
            "QDA\n",
            "              precision    recall  f1-score   support\n",
            "\n",
            "           0    0.93354   0.89939   0.91615       328\n",
            "           1    0.60714   0.70833   0.65385        72\n",
            "\n",
            "    accuracy                        0.86500       400\n",
            "   macro avg    0.77034   0.80386   0.78500       400\n",
            "weighted avg    0.87479   0.86500   0.86893       400\n",
            "\n",
            "K-NN\n",
            "              precision    recall  f1-score   support\n",
            "\n",
            "           0    0.86612   0.96646   0.91354       328\n",
            "           1    0.67647   0.31944   0.43396        72\n",
            "\n",
            "    accuracy                        0.85000       400\n",
            "   macro avg    0.77130   0.64295   0.67375       400\n",
            "weighted avg    0.83198   0.85000   0.82722       400\n",
            "\n",
            "Decision tree\n",
            "              precision    recall  f1-score   support\n",
            "\n",
            "           0    0.92683   0.92683   0.92683       328\n",
            "           1    0.66667   0.66667   0.66667        72\n",
            "\n",
            "    accuracy                        0.88000       400\n",
            "   macro avg    0.79675   0.79675   0.79675       400\n",
            "weighted avg    0.88000   0.88000   0.88000       400\n",
            "\n",
            "Random forest\n",
            "              precision    recall  f1-score   support\n",
            "\n",
            "           0    0.89326   0.96951   0.92982       328\n",
            "           1    0.77273   0.47222   0.58621        72\n",
            "\n",
            "    accuracy                        0.88000       400\n",
            "   macro avg    0.83299   0.72087   0.75802       400\n",
            "weighted avg    0.87156   0.88000   0.86797       400\n",
            "\n",
            "Naive model\n",
            "              precision    recall  f1-score   support\n",
            "\n",
            "           0    0.82000   1.00000   0.90110       328\n",
            "           1    0.00000   0.00000   0.00000        72\n",
            "\n",
            "    accuracy                        0.82000       400\n",
            "   macro avg    0.41000   0.50000   0.45055       400\n",
            "weighted avg    0.67240   0.82000   0.73890       400\n",
            "\n",
            "Hierarchical shrinkage\n",
            "              precision    recall  f1-score   support\n",
            "\n",
            "           0    0.90294   0.93598   0.91916       328\n",
            "           1    0.65000   0.54167   0.59091        72\n",
            "\n",
            "    accuracy                        0.86500       400\n",
            "   macro avg    0.77647   0.73882   0.75504       400\n",
            "weighted avg    0.85741   0.86500   0.86008       400\n",
            "\n",
            "Hierarchical shrinkage with random forest\n",
            "              precision    recall  f1-score   support\n",
            "\n",
            "           0    0.91304   0.96037   0.93611       328\n",
            "           1    0.76364   0.58333   0.66142        72\n",
            "\n",
            "    accuracy                        0.89250       400\n",
            "   macro avg    0.83834   0.77185   0.79876       400\n",
            "weighted avg    0.88615   0.89250   0.88666       400\n"
          ]
        },
        {
          "name": "stderr",
          "output_type": "stream",
          "text": [
            "C:\\Users\\vblys\\anaconda3\\envs\\AIIA\\lib\\site-packages\\sklearn\\metrics\\_classification.py:1469: UndefinedMetricWarning: Precision and F-score are ill-defined and being set to 0.0 in labels with no predicted samples. Use `zero_division` parameter to control this behavior.\n",
            "  _warn_prf(average, modifier, msg_start, len(result))\n",
            "C:\\Users\\vblys\\anaconda3\\envs\\AIIA\\lib\\site-packages\\sklearn\\metrics\\_classification.py:1469: UndefinedMetricWarning: Precision and F-score are ill-defined and being set to 0.0 in labels with no predicted samples. Use `zero_division` parameter to control this behavior.\n",
            "  _warn_prf(average, modifier, msg_start, len(result))\n",
            "C:\\Users\\vblys\\anaconda3\\envs\\AIIA\\lib\\site-packages\\sklearn\\metrics\\_classification.py:1469: UndefinedMetricWarning: Precision and F-score are ill-defined and being set to 0.0 in labels with no predicted samples. Use `zero_division` parameter to control this behavior.\n",
            "  _warn_prf(average, modifier, msg_start, len(result))\n"
          ]
        }
      ],
      "source": [
        "# Printing classification records for all models\n",
        "print(\"Logistic regression\")\n",
        "print(classification_report(y_test_logistic, y_pred_logistic, digits=5))\n",
        "print(\"LDA\")\n",
        "print(classification_report(y_test_LDA, y_pred_LDA, digits=5))\n",
        "print(\"QDA\")\n",
        "print(classification_report(y_test_QDA, y_pred_QDA, digits=5))\n",
        "print(\"K-NN\")\n",
        "print(classification_report(y_test_Knn, y_pred_Knn, digits=5))\n",
        "print(\"Decision tree\")\n",
        "print(classification_report(y_test, y_pred_dt, digits=5))\n",
        "print(\"Random forest\")\n",
        "print(classification_report(y_test, y_pred_rf, digits=5))\n",
        "print(\"Naive model\")\n",
        "print(classification_report(y_test_naive, y_pred_naive, digits=5))\n",
        "print(\"Hierarchical shrinkage\")\n",
        "print(classification_report(y_test, y_pred_HS, digits=5))\n",
        "print(\"Hierarchical shrinkage with random forest\")\n",
        "print(classification_report(y_test, y_pred_HS_RF, digits=5))"
      ],
      "metadata": {
        "id": "9546608bfa20ece1",
        "outputId": "02db4f44-c2b0-4a1b-b5f9-3b725e55b6da",
        "ExecuteTime": {
          "end_time": "2023-12-21T15:12:25.335756200Z",
          "start_time": "2023-12-21T15:12:25.242756600Z"
        }
      },
      "id": "9546608bfa20ece1"
    },
    {
      "cell_type": "code",
      "execution_count": null,
      "outputs": [],
      "source": [
        "# Plotting all models on same ROC curve\n",
        "# Logistic regression\n",
        "logistic_roc_auc = roc_auc_score(y_test_logistic, y_pred_logistic)\n",
        "fpr_logistic, tpr_logistic, thresholds_logistic = roc_curve(y_test_logistic, logistic_model.predict_proba(X_test_logistic)[:, 1])\n",
        "# LDA\n",
        "LDA_roc_auc = roc_auc_score(y_test_LDA, y_pred_LDA)\n",
        "fpr_LDA, tpr_LDA, thresholds_LDA = roc_curve(y_test_LDA, lda_best_model.predict_proba(X_test_LDA)[:, 1])\n",
        "# QDA\n",
        "QDA_roc_auc = roc_auc_score(y_test_QDA, y_pred_QDA)\n",
        "fpr_QDA, tpr_QDA, thresholds_QDA = roc_curve(y_test_QDA, qda_best_model.predict_proba(x_test_QDA)[:, 1])\n",
        "# K-NN\n",
        "Knn_roc_auc = roc_auc_score(y_test_Knn, y_pred_Knn)\n",
        "fpr_Knn, tpr_Knn, thresholds_Knn = roc_curve(y_test_Knn, best_knn.predict_proba(X_test_Knn)[:, 1])\n",
        "# Decision tree\n",
        "dt_roc_auc = roc_auc_score(y_test, y_pred_dt)\n",
        "fpr_dt, tpr_dt, thresholds_dt = roc_curve(y_test, gs_dt_clf.predict_proba(X_test)[:, 1])\n",
        "# Random forest\n",
        "rf_roc_auc = roc_auc_score(y_test, y_pred_rf)\n",
        "fpr_rf, tpr_rf, thresholds_rf = roc_curve(y_test, gs_rf_clf.predict_proba(X_test)[:, 1])\n",
        "# Hierarchical shrinkage\n",
        "HS_roc_auc = roc_auc_score(y_test, y_pred_HS)\n",
        "fpr_HS, tpr_HS, thresholds_HS = roc_curve(y_test, HS_DT.predict_proba(X_test.to_numpy())[:, 1])\n",
        "# Hierarchical shrinkage with random forest\n",
        "HS_RF_roc_auc = roc_auc_score(y_test, y_pred_HS_RF)\n",
        "fpr_HS_RF, tpr_HS_RF, thresholds_HS_RF = roc_curve(y_test, HSRF_model.predict_proba(X_test.to_numpy())[:, 1])"
      ],
      "metadata": {
        "id": "f33b7c49dbd22e0d",
        "ExecuteTime": {
          "end_time": "2023-12-21T15:12:25.473757800Z",
          "start_time": "2023-12-21T15:12:25.339761400Z"
        }
      },
      "id": "f33b7c49dbd22e0d"
    },
    {
      "cell_type": "code",
      "execution_count": null,
      "outputs": [
        {
          "data": {
            "text/plain": "<Figure size 640x480 with 1 Axes>",
            "image/png": "[encoded data removed]"
          },
          "metadata": {},
          "output_type": "display_data"
        }
      ],
      "source": [
        "# Plotting ROC curve\n",
        "plt.figure()\n",
        "plt.plot(fpr_logistic, tpr_logistic, label='Logistic regression (area = %0.2f)' % logistic_roc_auc)\n",
        "plt.plot(fpr_LDA, tpr_LDA, label='LDA (area = %0.2f)' % LDA_roc_auc)\n",
        "plt.plot(fpr_QDA, tpr_QDA, label='QDA (area = %0.2f)' % QDA_roc_auc)\n",
        "plt.plot(fpr_Knn, tpr_Knn, label='K-NN (area = %0.2f)' % Knn_roc_auc)\n",
        "plt.plot(fpr_dt, tpr_dt, label='Decision tree (area = %0.2f)' % dt_roc_auc)\n",
        "plt.plot(fpr_rf, tpr_rf, label='Random forest (area = %0.2f)' % rf_roc_auc)\n",
        "# HS_roc_auc\n",
        "plt.plot(fpr_HS, tpr_HS, label='Hierarchical shrinkage (area = %0.2f)' % HS_roc_auc)\n",
        "# HS_RF_roc_auc\n",
        "plt.plot(fpr_HS_RF, tpr_HS_RF, label='Hierarchical shrinkage with random forest (area = %0.2f)' % HS_RF_roc_auc)\n",
        "\n",
        "plt.plot([0, 1], [0, 1], 'k--')\n",
        "plt.xlim([-0.05, 1.0])\n",
        "plt.ylim([-0.05, 1.05])\n",
        "# Including legend\n",
        "plt.legend(loc=\"lower right\")\n",
        "plt.xlabel('False Positive Rate')\n",
        "plt.ylabel('True Positive Rate')\n",
        "plt.title('ROC curve')\n",
        "plt.show()\n"
      ],
      "metadata": {
        "id": "1db81202becc4cce",
        "outputId": "93fae742-2070-4585-c34b-8b2217b64874",
        "ExecuteTime": {
          "end_time": "2023-12-21T15:12:25.840757900Z",
          "start_time": "2023-12-21T15:12:25.473757800Z"
        }
      },
      "id": "1db81202becc4cce"
    },
    {
      "cell_type": "code",
      "execution_count": null,
      "outputs": [],
      "source": [
        "# Comparing performance between test set and training sets"
      ],
      "metadata": {
        "id": "6fa3b73d636a1aa1",
        "ExecuteTime": {
          "end_time": "2023-12-17T18:18:05.867010900Z",
          "start_time": "2023-12-17T18:18:05.851981600Z"
        }
      },
      "id": "6fa3b73d636a1aa1"
    },
    {
      "cell_type": "code",
      "execution_count": null,
      "outputs": [
        {
          "output_type": "stream",
          "name": "stderr",
          "text": [
            "/usr/local/lib/python3.10/dist-packages/ipykernel/ipkernel.py:283: DeprecationWarning: `should_run_async` will not call `transform_cell` automatically in the future. Please pass the result to `transformed_cell` argument and any exception that happen during thetransform in `preprocessing_exc_tuple` in IPython 7.17 and above.\n",
            "  and should_run_async(code)\n"
          ]
        },
        {
          "output_type": "stream",
          "name": "stdout",
          "text": [
            "Logistic regression training accuracy:  0.8991666666666667\n",
            "LDA training accuracy:  0.8791666666666667\n",
            "QDA training accuracy:  0.8825\n",
            "K-NN training accuracy:  0.8708333333333333\n",
            "Decision tree training accuracy:  0.9066666666666666\n",
            "Random forest training accuracy:  0.9216666666666666\n",
            "Naive model training accuracy:  0.82\n"
          ]
        }
      ],
      "source": [
        "# getting the accuracy score for each model on the training set\n",
        "logistic_train_score = accuracy_score(y_train_logistic, logistic_model.predict(X_train_logistic))\n",
        "LDA_train_score = accuracy_score(y_train_LDA, lda_best_model.predict(X_train_LDA))\n",
        "QDA_train_score = accuracy_score(y_train_LDA, qda_best_model.predict(X_train_LDA))\n",
        "Knn_train_score = accuracy_score(y_train_Knn, best_knn.predict(X_train_Knn))\n",
        "dt_train_score = accuracy_score(y_train, gs_dt_clf.predict(X_train))\n",
        "rf_train_score = accuracy_score(y_train, gs_rf_clf.predict(X_train))\n",
        "naive_train_score = accuracy_score(y_train, naive_model(X_train))\n",
        "\n",
        "# printing it out\n",
        "print(\"Logistic regression training accuracy: \", logistic_train_score)\n",
        "print(\"LDA training accuracy: \", LDA_train_score)\n",
        "print(\"QDA training accuracy: \", QDA_train_score)\n",
        "print(\"K-NN training accuracy: \", Knn_train_score)\n",
        "print(\"Decision tree training accuracy: \", dt_train_score)\n",
        "print(\"Random forest training accuracy: \", rf_train_score)\n",
        "print(\"Naive model training accuracy: \", naive_train_score)\n",
        "\n"
      ],
      "metadata": {
        "id": "fb56466ce9515816",
        "colab": {
          "base_uri": "https://localhost:8080/"
        },
        "outputId": "269c2fb9-841f-4ffc-e992-55fd4e6e319e"
      },
      "id": "fb56466ce9515816"
    }
  ],
  "metadata": {
    "kernelspec": {
      "display_name": "Python 3",
      "language": "python",
      "name": "python3"
    },
    "language_info": {
      "codemirror_mode": {
        "name": "ipython",
        "version": 2
      },
      "file_extension": ".py",
      "mimetype": "text/x-python",
      "name": "python",
      "nbconvert_exporter": "python",
      "pygments_lexer": "ipython2",
      "version": "2.7.6"
    },
    "colab": {
      "provenance": [],
      "include_colab_link": true
    }
  },
  "nbformat": 4,
  "nbformat_minor": 5
}